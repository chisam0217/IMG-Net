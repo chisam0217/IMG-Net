{
 "cells": [
  {
   "cell_type": "code",
   "execution_count": 1,
   "id": "0b952d92",
   "metadata": {},
   "outputs": [
    {
     "name": "stdout",
     "output_type": "stream",
     "text": [
      "maz (120, 128, 128)\n",
      "train_paths (160000, 22, 2)\n"
     ]
    }
   ],
   "source": [
    "import seaborn as sns; sns.set()\n",
    "import matplotlib.pyplot as plt\n",
    "import os.path as op\n",
    "import numpy as np\n",
    "\n",
    "arr_dir = \"/home/xiao/Projects/ST_LSTM_MP/Data/2D_map/Map_array\"\n",
    "train_paths = np.load(op.join(arr_dir, \"train_path.npy\"))\n",
    "maz = np.load(op.join(arr_dir, \"maz.npy\"))\n",
    "maz = np.rint(maz/255.0)\n",
    "maz = maz * 2 - 1 #convert the value range [0, 1] to [-1, 1]\n",
    "\n",
    "print ('maz', maz.shape)\n",
    "print ('train_paths', train_paths.shape)\n"
   ]
  },
  {
   "cell_type": "code",
   "execution_count": 2,
   "id": "6fcccfe5",
   "metadata": {},
   "outputs": [],
   "source": [
    "radius = 1\n",
    "N = 128\n",
    "def augment_state(aug_state, curr_maz, v, r):\n",
    "    \n",
    "    for row in range(aug_state[0]-r, aug_state[0]+r+1):\n",
    "        for col in range(aug_state[1]-r, aug_state[1]+r+1):\n",
    "            if 0 <= row < N and 0 <= col < N and curr_maz[row, col]!= 1:\n",
    "                curr_maz[row, col] = v\n",
    "    return curr_maz"
   ]
  },
  {
   "cell_type": "code",
   "execution_count": 21,
   "id": "fd6092d0",
   "metadata": {},
   "outputs": [
    {
     "name": "stdout",
     "output_type": "stream",
     "text": [
      "(128, 128)\n"
     ]
    },
    {
     "data": {
      "image/png": "[encoded data removed]",
      "text/plain": [
       "<Figure size 432x288 with 1 Axes>"
      ]
     },
     "metadata": {},
     "output_type": "display_data"
    }
   ],
   "source": [
    "maz_id = 9\n",
    "traj_id = maz_id*1600+81\n",
    "\n",
    "max_itr = 518\n",
    "start_v = -0.33\n",
    "goal_v = 0.33\n",
    "path = np.copy(train_paths[traj_id])\n",
    "workspace = np.copy(maz[maz_id])\n",
    "print (workspace.shape)\n",
    "img_task = np.copy(workspace)\n",
    "curr_task = augment_state(path[-1], np.copy(workspace), goal_v,1) \n",
    "curr_task = augment_state(path[0], np.copy(curr_task), start_v, 1)\n",
    "sns.heatmap(img_task.T, cmap=\"YlGnBu\", cbar=False, xticklabels=False, yticklabels=False, square=True)\n",
    "# plt.plot(x[0], y[0], 'ro', color='green')\n",
    "# plt.plot(x[-1], y[-1], 'ro', color='red')\n",
    "x = [x for x,y in path]\n",
    "y = [y for x,y in path]\n",
    "plt.plot(x,y, '-', color='blue')\n",
    "\n",
    "\n",
    "plt.scatter(x[1:-1], y[1:-1], s=50, color='blue', marker='o')\n",
    "plt.scatter(x[0], y[0], s=50, color='green', marker='o')\n",
    "plt.scatter(x[-1], y[-1], s=50, color='red', marker='o')\n",
    "plt.show()"
   ]
  },
  {
   "cell_type": "code",
   "execution_count": 13,
   "id": "5a423f8b",
   "metadata": {},
   "outputs": [
    {
     "name": "stdout",
     "output_type": "stream",
     "text": [
      "(128, 128)\n"
     ]
    },
    {
     "data": {
      "image/png": "[encoded data removed]",
      "text/plain": [
       "<Figure size 432x288 with 1 Axes>"
      ]
     },
     "metadata": {},
     "output_type": "display_data"
    }
   ],
   "source": [
    "maz_id = 3\n",
    "traj_id = maz_id*1600+81\n",
    "\n",
    "max_itr = 518\n",
    "start_v = -0.33\n",
    "goal_v = 0.33\n",
    "path = np.copy(train_paths[traj_id])\n",
    "workspace = np.copy(maz[maz_id])\n",
    "print (workspace.shape)\n",
    "img_task = np.copy(workspace)\n",
    "curr_task = augment_state(path[-1], np.copy(workspace), goal_v,1) \n",
    "curr_task = augment_state(path[0], np.copy(curr_task), start_v, 1)\n",
    "sns.heatmap(img_task.T, cmap=\"YlGnBu\", cbar=False, xticklabels=False, yticklabels=False, square=True)\n",
    "# plt.plot(x[0], y[0], 'ro', color='green')\n",
    "# plt.plot(x[-1], y[-1], 'ro', color='red')\n",
    "x = [x for x,y in path]\n",
    "y = [y for x,y in path]\n",
    "plt.plot(x,y, '-', color='blue')\n",
    "plt.scatter(x[1:-1], y[1:-1], s=50, color='blue', marker='o')\n",
    "plt.scatter(x[0], y[0], s=50, color='green', marker='o')\n",
    "plt.scatter(x[-1], y[-1], s=50, color='red', marker='o')\n",
    "plt.show()"
   ]
  },
  {
   "cell_type": "code",
   "execution_count": 14,
   "id": "287dc022",
   "metadata": {},
   "outputs": [
    {
     "name": "stdout",
     "output_type": "stream",
     "text": [
      "(128, 128)\n"
     ]
    },
    {
     "data": {
      "image/png": "[encoded data removed]",
      "text/plain": [
       "<Figure size 432x288 with 1 Axes>"
      ]
     },
     "metadata": {},
     "output_type": "display_data"
    }
   ],
   "source": [
    "maz_id = 2\n",
    "traj_id = maz_id*1600+76\n",
    "\n",
    "max_itr = 518\n",
    "start_v = -0.33\n",
    "goal_v = 0.33\n",
    "path = np.copy(train_paths[traj_id])\n",
    "workspace = np.copy(maz[maz_id])\n",
    "print (workspace.shape)\n",
    "img_task = np.copy(workspace)\n",
    "curr_task = augment_state(path[-1], np.copy(workspace), goal_v,1) \n",
    "curr_task = augment_state(path[0], np.copy(curr_task), start_v, 1)\n",
    "sns.heatmap(img_task.T, cmap=\"YlGnBu\", cbar=False, xticklabels=False, yticklabels=False, square=True)\n",
    "# plt.plot(x[0], y[0], 'ro', color='green')\n",
    "# plt.plot(x[-1], y[-1], 'ro', color='red')\n",
    "x = [x for x,y in path]\n",
    "y = [y for x,y in path]\n",
    "plt.plot(x,y, '-', color='blue')\n",
    "plt.scatter(x[1:-1], y[1:-1], s=50, color='blue', marker='o')\n",
    "plt.scatter(x[0], y[0], s=50, color='green', marker='o')\n",
    "plt.scatter(x[-1], y[-1], s=50, color='red', marker='o')\n",
    "plt.show()"
   ]
  },
  {
   "cell_type": "code",
   "execution_count": 15,
   "id": "17787835",
   "metadata": {},
   "outputs": [
    {
     "name": "stdout",
     "output_type": "stream",
     "text": [
      "(128, 128)\n"
     ]
    },
    {
     "data": {
      "image/png": "[encoded data removed]",
      "text/plain": [
       "<Figure size 432x288 with 1 Axes>"
      ]
     },
     "metadata": {},
     "output_type": "display_data"
    }
   ],
   "source": [
    "maz_id = 1\n",
    "traj_id = maz_id*1600+76\n",
    "\n",
    "max_itr = 518\n",
    "start_v = -0.33\n",
    "goal_v = 0.33\n",
    "path = np.copy(train_paths[traj_id])\n",
    "workspace = np.copy(maz[maz_id])\n",
    "print (workspace.shape)\n",
    "img_task = np.copy(workspace)\n",
    "curr_task = augment_state(path[-1], np.copy(workspace), goal_v,1) \n",
    "curr_task = augment_state(path[0], np.copy(curr_task), start_v, 1)\n",
    "sns.heatmap(img_task.T, cmap=\"YlGnBu\", cbar=False, xticklabels=False, yticklabels=False, square=True)\n",
    "# plt.plot(x[0], y[0], 'ro', color='green')\n",
    "# plt.plot(x[-1], y[-1], 'ro', color='red')\n",
    "x = [x for x,y in path]\n",
    "y = [y for x,y in path]\n",
    "plt.plot(x,y, '-', color='blue')\n",
    "plt.scatter(x[1:-1], y[1:-1], s=50, color='blue', marker='o')\n",
    "plt.scatter(x[0], y[0], s=50, color='green', marker='o')\n",
    "plt.scatter(x[-1], y[-1], s=50, color='red', marker='o')\n",
    "plt.show()"
   ]
  },
  {
   "cell_type": "code",
   "execution_count": 121,
   "id": "598ad8e2",
   "metadata": {},
   "outputs": [
    {
     "name": "stdout",
     "output_type": "stream",
     "text": [
      "(128, 128)\n"
     ]
    },
    {
     "data": {
      "image/png": "[encoded data removed]",
      "text/plain": [
       "<Figure size 432x288 with 1 Axes>"
      ]
     },
     "metadata": {},
     "output_type": "display_data"
    }
   ],
   "source": [
    "maz_id = 1\n",
    "traj_id = maz_id*1600+76\n",
    "\n",
    "max_itr = 518\n",
    "start_v = -0.33\n",
    "goal_v = 0.33\n",
    "path = np.copy(train_paths[traj_id])\n",
    "workspace = np.copy(maz[maz_id])\n",
    "print (workspace.shape)\n",
    "img_task = np.copy(workspace)\n",
    "curr_task = augment_state(path[-1], np.copy(workspace), goal_v,1) \n",
    "curr_task = augment_state(path[0], np.copy(curr_task), start_v, 1)\n",
    "sns.heatmap(img_task.T, cmap=\"YlGnBu\", cbar=False, xticklabels=False, yticklabels=False, square=True)\n",
    "# plt.plot(x[0], y[0], 'ro', color='green')\n",
    "# plt.plot(x[-1], y[-1], 'ro', color='red')\n",
    "x = [x for x,y in path]\n",
    "y = [y for x,y in path]\n",
    "plt.plot(x,y, '-', color='blue')\n",
    "plt.scatter(x[1:-1], y[1:-1], s=150, color='blue', marker='o')\n",
    "plt.scatter(x[0], y[0], s=150, color='green', marker='o')\n",
    "plt.scatter(x[-1], y[-1], s=150, color='red', marker='o')\n",
    "plt.show()"
   ]
  },
  {
   "cell_type": "code",
   "execution_count": 122,
   "id": "a65ef693",
   "metadata": {},
   "outputs": [
    {
     "data": {
      "image/png": "[encoded data removed]",
      "text/plain": [
       "<Figure size 432x288 with 1 Axes>"
      ]
     },
     "metadata": {},
     "output_type": "display_data"
    }
   ],
   "source": [
    "curr_task = augment_state(path[-1], np.copy(workspace), goal_v,1) \n",
    "curr_task = augment_state(path[0], np.copy(curr_task), start_v, 1)\n",
    "sns.heatmap(img_task.T, cmap=\"YlGnBu\", cbar=False, xticklabels=False, yticklabels=False, square=True)\n",
    "# plt.plot(x[0], y[0], 'ro', color='green')\n",
    "# plt.plot(x[-1], y[-1], 'ro', color='red')\n",
    "\n",
    "plt.scatter(x[0], y[0], s=150, color='green', marker='o')\n",
    "plt.scatter(x[-1], y[-1], s=150, color='red', marker='o')\n",
    "plt.show()"
   ]
  },
  {
   "cell_type": "code",
   "execution_count": 123,
   "id": "34234758",
   "metadata": {},
   "outputs": [
    {
     "data": {
      "text/plain": [
       "<AxesSubplot:>"
      ]
     },
     "execution_count": 123,
     "metadata": {},
     "output_type": "execute_result"
    },
    {
     "data": {
      "image/png": "[encoded data removed]",
      "text/plain": [
       "<Figure size 432x288 with 1 Axes>"
      ]
     },
     "metadata": {},
     "output_type": "display_data"
    }
   ],
   "source": [
    "curr_task = augment_state(path[1], np.copy(np.zeros((128,128))), 1,5) \n",
    "# sns.heatmap(np.zeros((128,128)), cmap=\"YlGnBu\", cbar=False, xticklabels=False, yticklabels=False, square=True)\n",
    "sns.heatmap(curr_task.T, cbar=False, xticklabels=False, yticklabels=False, square=True)\n",
    "\n",
    "# plt.scatter(x[1], y[1], s=100, color='green', marker='o')"
   ]
  },
  {
   "cell_type": "code",
   "execution_count": 124,
   "id": "56181138",
   "metadata": {},
   "outputs": [
    {
     "data": {
      "image/png": "[encoded data removed]",
      "text/plain": [
       "<Figure size 432x288 with 1 Axes>"
      ]
     },
     "metadata": {},
     "output_type": "display_data"
    }
   ],
   "source": [
    "curr_task = augment_state(path[-1], np.copy(workspace), goal_v,1) \n",
    "curr_task = augment_state(path[0], np.copy(curr_task), start_v, 1)\n",
    "sns.heatmap(img_task.T, cmap=\"YlGnBu\", cbar=False, xticklabels=False, yticklabels=False, square=True)\n",
    "# plt.plot(x[0], y[0], 'ro', color='green')\n",
    "# plt.plot(x[-1], y[-1], 'ro', color='red')\n",
    "\n",
    "plt.scatter(x[1], y[1], s=150, color='green', marker='o')\n",
    "plt.scatter(x[-1], y[-1], s=150, color='red', marker='o')\n",
    "plt.show()"
   ]
  },
  {
   "cell_type": "code",
   "execution_count": 125,
   "id": "935a94c6",
   "metadata": {},
   "outputs": [
    {
     "data": {
      "text/plain": [
       "<AxesSubplot:>"
      ]
     },
     "execution_count": 125,
     "metadata": {},
     "output_type": "execute_result"
    },
    {
     "data": {
      "image/png": "[encoded data removed]",
      "text/plain": [
       "<Figure size 432x288 with 1 Axes>"
      ]
     },
     "metadata": {},
     "output_type": "display_data"
    }
   ],
   "source": [
    "curr_task = augment_state(path[2], np.copy(np.zeros((128,128))), 1,5) \n",
    "# sns.heatmap(np.zeros((128,128)), cmap=\"YlGnBu\", cbar=False, xticklabels=False, yticklabels=False, square=True)\n",
    "sns.heatmap(curr_task.T, cbar=False, xticklabels=False, yticklabels=False, square=True)"
   ]
  },
  {
   "cell_type": "code",
   "execution_count": 126,
   "id": "a433954f",
   "metadata": {},
   "outputs": [
    {
     "data": {
      "image/png": "[encoded data removed]",
      "text/plain": [
       "<Figure size 432x288 with 1 Axes>"
      ]
     },
     "metadata": {},
     "output_type": "display_data"
    }
   ],
   "source": [
    "curr_task = augment_state(path[-1], np.copy(workspace), goal_v,1) \n",
    "curr_task = augment_state(path[0], np.copy(curr_task), start_v, 1)\n",
    "sns.heatmap(img_task.T, cmap=\"YlGnBu\", cbar=False, xticklabels=False, yticklabels=False, square=True)\n",
    "# plt.plot(x[0], y[0], 'ro', color='green')\n",
    "# plt.plot(x[-1], y[-1], 'ro', color='red')\n",
    "\n",
    "plt.scatter(x[2], y[2], s=150, color='green', marker='o')\n",
    "plt.scatter(x[-1], y[-1], s=150, color='red', marker='o')\n",
    "plt.show()"
   ]
  },
  {
   "cell_type": "code",
   "execution_count": 127,
   "id": "4ed84787",
   "metadata": {},
   "outputs": [
    {
     "data": {
      "text/plain": [
       "<AxesSubplot:>"
      ]
     },
     "execution_count": 127,
     "metadata": {},
     "output_type": "execute_result"
    },
    {
     "data": {
      "image/png": "[encoded data removed]",
      "text/plain": [
       "<Figure size 432x288 with 1 Axes>"
      ]
     },
     "metadata": {},
     "output_type": "display_data"
    }
   ],
   "source": [
    "curr_task = augment_state(path[3], np.copy(np.zeros((128,128))), 1,5) \n",
    "# sns.heatmap(np.zeros((128,128)), cmap=\"YlGnBu\", cbar=False, xticklabels=False, yticklabels=False, square=True)\n",
    "sns.heatmap(curr_task.T, cbar=False, xticklabels=False, yticklabels=False, square=True)"
   ]
  },
  {
   "cell_type": "code",
   "execution_count": null,
   "id": "4b0b6e5e",
   "metadata": {},
   "outputs": [],
   "source": []
  }
 ],
 "metadata": {
  "kernelspec": {
   "display_name": "Python 3 (ipykernel)",
   "language": "python",
   "name": "python3"
  },
  "language_info": {
   "codemirror_mode": {
    "name": "ipython",
    "version": 3
   },
   "file_extension": ".py",
   "mimetype": "text/x-python",
   "name": "python",
   "nbconvert_exporter": "python",
   "pygments_lexer": "ipython3",
   "version": "3.9.11"
  }
 },
 "nbformat": 4,
 "nbformat_minor": 5
}
