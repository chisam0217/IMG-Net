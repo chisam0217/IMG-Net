{
 "cells": [
  {
   "cell_type": "code",
   "execution_count": 15,
   "id": "1fd65e54",
   "metadata": {},
   "outputs": [
    {
     "name": "stdout",
     "output_type": "stream",
     "text": [
      "x_train (22400, 64, 64)\n"
     ]
    }
   ],
   "source": [
    "import keras\n",
    "from keras.layers import Input, Conv2D, Dropout\n",
    "from tensorflow.keras.layers import BatchNormalization\n",
    "from keras.models import Model, load_model\n",
    "from keras.callbacks import EarlyStopping, ModelCheckpoint\n",
    "import os\n",
    "import numpy as np\n",
    "os.environ['CUDA_VISIBLE_DEVICES'] = '-1'\n",
    "x_train = np.load(\"data/all_input.npy\").astype(np.float32)\n",
    "y_train = np.load(\"data/all_output.npy\").astype(np.float32)\n",
    "print ('x_train', x_train.shape) #320000 x 128 x 128: 128 -- size of maps, 3200000: number data points\n",
    "\n",
    "np.save(\"data/small_input.npy\", x_train[:300,:,:])\n",
    "np.save(\"data/small_output.npy\", y_train[:300,:,:])\n",
    "\n",
    "# x_train = np.load(\"data/small_input.npy\").astype(np.float32)\n",
    "# y_train = np.load(\"data/small_output.npy\").astype(np.float32)\n",
    "\n",
    "n_train = 20000\n",
    "N = x_train.shape[1]\n",
    "x_train = x_train[:n_train, :, :]\n",
    "y_train = y_train[:n_train, :, :]"
   ]
  },
  {
   "cell_type": "code",
   "execution_count": 2,
   "id": "04c0b63f",
   "metadata": {},
   "outputs": [],
   "source": [
    "import seaborn as sns; sns.set()\n",
    "import matplotlib.pyplot as plt"
   ]
  },
  {
   "cell_type": "code",
   "execution_count": 3,
   "id": "86810c6e",
   "metadata": {},
   "outputs": [
    {
     "data": {
      "image/png": "[encoded data removed]",
      "text/plain": [
       "<Figure size 432x288 with 1 Axes>"
      ]
     },
     "metadata": {},
     "output_type": "display_data"
    }
   ],
   "source": [
    "ax = sns.heatmap(x_train[0].T, cmap=\"YlGnBu\", cbar=False, xticklabels=False, yticklabels=False, square=True)"
   ]
  },
  {
   "cell_type": "code",
   "execution_count": 6,
   "id": "0881d7a8",
   "metadata": {
    "scrolled": true
   },
   "outputs": [
    {
     "name": "stdout",
     "output_type": "stream",
     "text": [
      "Model: \"model_2\"\n",
      "_________________________________________________________________\n",
      " Layer (type)                Output Shape              Param #   \n",
      "=================================================================\n",
      " input_3 (InputLayer)        [(None, 64, 64, 1)]       0         \n",
      "                                                                 \n",
      " conv2d_24 (Conv2D)          (None, 64, 64, 64)        640       \n",
      "                                                                 \n",
      " batch_normalization_24 (Bat  (None, 64, 64, 64)       256       \n",
      " chNormalization)                                                \n",
      "                                                                 \n",
      " conv2d_25 (Conv2D)          (None, 64, 64, 64)        36928     \n",
      "                                                                 \n",
      " batch_normalization_25 (Bat  (None, 64, 64, 64)       256       \n",
      " chNormalization)                                                \n",
      "                                                                 \n",
      " conv2d_26 (Conv2D)          (None, 64, 64, 64)        36928     \n",
      "                                                                 \n",
      " batch_normalization_26 (Bat  (None, 64, 64, 64)       256       \n",
      " chNormalization)                                                \n",
      "                                                                 \n",
      " conv2d_27 (Conv2D)          (None, 64, 64, 64)        36928     \n",
      "                                                                 \n",
      " batch_normalization_27 (Bat  (None, 64, 64, 64)       256       \n",
      " chNormalization)                                                \n",
      "                                                                 \n",
      " conv2d_28 (Conv2D)          (None, 64, 64, 64)        36928     \n",
      "                                                                 \n",
      " batch_normalization_28 (Bat  (None, 64, 64, 64)       256       \n",
      " chNormalization)                                                \n",
      "                                                                 \n",
      " conv2d_29 (Conv2D)          (None, 64, 64, 64)        36928     \n",
      "                                                                 \n",
      " batch_normalization_29 (Bat  (None, 64, 64, 64)       256       \n",
      " chNormalization)                                                \n",
      "                                                                 \n",
      " conv2d_30 (Conv2D)          (None, 64, 64, 64)        36928     \n",
      "                                                                 \n",
      " batch_normalization_30 (Bat  (None, 64, 64, 64)       256       \n",
      " chNormalization)                                                \n",
      "                                                                 \n",
      " conv2d_31 (Conv2D)          (None, 64, 64, 64)        36928     \n",
      "                                                                 \n",
      " batch_normalization_31 (Bat  (None, 64, 64, 64)       256       \n",
      " chNormalization)                                                \n",
      "                                                                 \n",
      " conv2d_32 (Conv2D)          (None, 64, 64, 64)        36928     \n",
      "                                                                 \n",
      " batch_normalization_32 (Bat  (None, 64, 64, 64)       256       \n",
      " chNormalization)                                                \n",
      "                                                                 \n",
      " conv2d_33 (Conv2D)          (None, 64, 64, 64)        36928     \n",
      "                                                                 \n",
      " batch_normalization_33 (Bat  (None, 64, 64, 64)       256       \n",
      " chNormalization)                                                \n",
      "                                                                 \n",
      " conv2d_34 (Conv2D)          (None, 64, 64, 64)        36928     \n",
      "                                                                 \n",
      " batch_normalization_34 (Bat  (None, 64, 64, 64)       256       \n",
      " chNormalization)                                                \n",
      "                                                                 \n",
      " conv2d_35 (Conv2D)          (None, 64, 64, 64)        36928     \n",
      "                                                                 \n",
      " batch_normalization_35 (Bat  (None, 64, 64, 64)       256       \n",
      " chNormalization)                                                \n",
      "                                                                 \n",
      " conv2d_36 (Conv2D)          (None, 64, 64, 1)         577       \n",
      "                                                                 \n",
      " batch_normalization_36 (Bat  (None, 64, 64, 1)        4         \n",
      " chNormalization)                                                \n",
      "                                                                 \n",
      " dropout_2 (Dropout)         (None, 64, 64, 1)         0         \n",
      "                                                                 \n",
      "=================================================================\n",
      "Total params: 410,501\n",
      "Trainable params: 408,963\n",
      "Non-trainable params: 1,538\n",
      "_________________________________________________________________\n",
      "Train network ...\n",
      "Epoch 1/30\n",
      "291/291 [==============================] - 17s 53ms/step - loss: 0.1070 - accuracy: 0.9627 - val_loss: 0.0117 - val_accuracy: 0.9896\n",
      "Epoch 2/30\n",
      "291/291 [==============================] - 15s 53ms/step - loss: 0.0124 - accuracy: 0.9927 - val_loss: 0.1199 - val_accuracy: 0.9896\n",
      "Epoch 3/30\n",
      "291/291 [==============================] - 15s 53ms/step - loss: 0.0084 - accuracy: 0.9939 - val_loss: 0.2553 - val_accuracy: 0.9896\n",
      "Epoch 4/30\n",
      "291/291 [==============================] - 16s 54ms/step - loss: 0.0069 - accuracy: 0.9940 - val_loss: 0.1437 - val_accuracy: 0.9897\n",
      "Epoch 5/30\n",
      "291/291 [==============================] - 16s 54ms/step - loss: 0.0062 - accuracy: 0.9941 - val_loss: 0.0730 - val_accuracy: 0.9916\n",
      "Epoch 6/30\n",
      "291/291 [==============================] - 16s 54ms/step - loss: 0.0060 - accuracy: 0.9942 - val_loss: 0.1129 - val_accuracy: 0.9897\n",
      "Epoch 7/30\n",
      "291/291 [==============================] - 16s 53ms/step - loss: 0.0056 - accuracy: 0.9942 - val_loss: 0.0447 - val_accuracy: 0.9913\n",
      "Epoch 8/30\n",
      "291/291 [==============================] - 15s 53ms/step - loss: 0.0055 - accuracy: 0.9942 - val_loss: 0.0476 - val_accuracy: 0.9899\n",
      "Epoch 9/30\n",
      "291/291 [==============================] - 15s 53ms/step - loss: 0.0055 - accuracy: 0.9943 - val_loss: 0.0371 - val_accuracy: 0.9916\n",
      "Epoch 10/30\n",
      "291/291 [==============================] - 16s 53ms/step - loss: 0.0054 - accuracy: 0.9943 - val_loss: 0.0277 - val_accuracy: 0.9920\n",
      "Epoch 11/30\n",
      "291/291 [==============================] - 15s 53ms/step - loss: 0.0054 - accuracy: 0.9943 - val_loss: 0.0178 - val_accuracy: 0.9943\n",
      "Epoch 12/30\n",
      "291/291 [==============================] - 16s 53ms/step - loss: 0.0053 - accuracy: 0.9943 - val_loss: 0.0154 - val_accuracy: 0.9940\n",
      "Epoch 13/30\n",
      "291/291 [==============================] - 15s 53ms/step - loss: 0.0053 - accuracy: 0.9943 - val_loss: 0.0159 - val_accuracy: 0.9939\n",
      "Epoch 14/30\n",
      "291/291 [==============================] - 16s 53ms/step - loss: 0.0053 - accuracy: 0.9943 - val_loss: 0.0127 - val_accuracy: 0.9944\n",
      "Epoch 15/30\n",
      "291/291 [==============================] - 15s 53ms/step - loss: 0.0053 - accuracy: 0.9943 - val_loss: 0.0159 - val_accuracy: 0.9947\n",
      "Epoch 16/30\n",
      "291/291 [==============================] - 15s 53ms/step - loss: 0.0052 - accuracy: 0.9943 - val_loss: 0.0112 - val_accuracy: 0.9945\n",
      "Epoch 17/30\n",
      "291/291 [==============================] - 15s 53ms/step - loss: 0.0052 - accuracy: 0.9943 - val_loss: 0.0091 - val_accuracy: 0.9946\n",
      "Epoch 18/30\n",
      "291/291 [==============================] - 15s 53ms/step - loss: 0.0052 - accuracy: 0.9943 - val_loss: 0.0081 - val_accuracy: 0.9945\n",
      "Epoch 19/30\n",
      "291/291 [==============================] - 16s 53ms/step - loss: 0.0052 - accuracy: 0.9943 - val_loss: 0.0077 - val_accuracy: 0.9947\n",
      "Epoch 20/30\n",
      "291/291 [==============================] - 15s 53ms/step - loss: 0.0052 - accuracy: 0.9943 - val_loss: 0.0068 - val_accuracy: 0.9947\n",
      "Epoch 21/30\n",
      "291/291 [==============================] - 15s 53ms/step - loss: 0.0052 - accuracy: 0.9943 - val_loss: 0.0061 - val_accuracy: 0.9947\n",
      "Epoch 22/30\n",
      "291/291 [==============================] - 15s 53ms/step - loss: 0.0052 - accuracy: 0.9943 - val_loss: 0.0066 - val_accuracy: 0.9947\n",
      "Epoch 23/30\n",
      "291/291 [==============================] - 15s 53ms/step - loss: 0.0052 - accuracy: 0.9943 - val_loss: 0.0059 - val_accuracy: 0.9947\n",
      "Epoch 24/30\n",
      "291/291 [==============================] - 15s 53ms/step - loss: 0.0052 - accuracy: 0.9943 - val_loss: 0.0054 - val_accuracy: 0.9947\n",
      "Epoch 25/30\n",
      "291/291 [==============================] - 15s 53ms/step - loss: 0.0052 - accuracy: 0.9943 - val_loss: 0.0055 - val_accuracy: 0.9947\n",
      "Epoch 26/30\n",
      "291/291 [==============================] - 15s 53ms/step - loss: 0.0052 - accuracy: 0.9943 - val_loss: 0.0058 - val_accuracy: 0.9947\n",
      "Epoch 27/30\n",
      "291/291 [==============================] - 15s 53ms/step - loss: 0.0052 - accuracy: 0.9943 - val_loss: 0.0054 - val_accuracy: 0.9947\n",
      "Epoch 28/30\n",
      "291/291 [==============================] - 15s 53ms/step - loss: 0.0052 - accuracy: 0.9943 - val_loss: 0.0053 - val_accuracy: 0.9947\n",
      "Epoch 29/30\n",
      "291/291 [==============================] - 15s 53ms/step - loss: 0.0051 - accuracy: 0.9943 - val_loss: 0.0053 - val_accuracy: 0.9947\n",
      "Epoch 30/30\n",
      "291/291 [==============================] - 15s 53ms/step - loss: 0.0052 - accuracy: 0.9943 - val_loss: 0.0051 - val_accuracy: 0.9947\n",
      "Save trained model ...\n"
     ]
    },
    {
     "name": "stderr",
     "output_type": "stream",
     "text": [
      "2022-02-14 23:54:50.242984: W tensorflow/python/util/util.cc:368] Sets are not currently considered sequences, but this may change in the future, so consider avoiding using them.\n"
     ]
    },
    {
     "name": "stdout",
     "output_type": "stream",
     "text": [
      "INFO:tensorflow:Assets written to: model_2d_21.hf5/assets\n"
     ]
    }
   ],
   "source": [
    "import tensorflow as tf\n",
    "x = Input(shape=(N, N, 1))\n",
    "\n",
    "net = Conv2D(filters=64, kernel_size=[3, 3], strides=[1, 1], padding=\"same\", kernel_initializer='orthogonal', activation='relu')(x)\n",
    "net = BatchNormalization()(net)\n",
    "for i in range(11):\n",
    "# for i in range(10):\n",
    "    net = Conv2D(filters=64, kernel_size=[3, 3], strides=[1, 1], padding=\"same\", kernel_initializer='orthogonal', activation='relu')(net)\n",
    "    net = BatchNormalization()(net)\n",
    "\n",
    "net = Conv2D(filters=1, kernel_size=[3, 3], strides=[1, 1], padding=\"same\", kernel_initializer='orthogonal', activation='sigmoid')(net)\n",
    "net = BatchNormalization()(net)\t\n",
    "net = Dropout(0.10)(net)\n",
    "\n",
    "model = Model(inputs=x,outputs=net)\n",
    "model.summary()\n",
    "\n",
    "early_stop = EarlyStopping(monitor='val_acc', min_delta=0, patience=10, verbose=1, mode='auto')\n",
    "# save_weights = ModelCheckpoint(filepath='weights_2d.hf5', monitor='val_acc',verbose=1, save_best_only=True)\n",
    "\n",
    "print('Train network ...')\n",
    "opt = tf.keras.optimizers.Adam(learning_rate=0.001)\n",
    "model.compile(optimizer=opt, loss='mse',metrics=['accuracy'])\n",
    "\n",
    "# model.compile(optimizer='adam',loss='mse',metrics=['accuracy'])\n",
    "model.fit(x_train.reshape(n_train,N,N,1), y_train.reshape(n_train,N,N,1), batch_size=64, validation_split=1/14, epochs=30, verbose=1)\n",
    "print('Save trained model ...')\n",
    "model.save(\"model_2d_21.hf5\")"
   ]
  },
  {
   "cell_type": "code",
   "execution_count": 16,
   "id": "8f060dad",
   "metadata": {},
   "outputs": [
    {
     "name": "stdout",
     "output_type": "stream",
     "text": [
      "maz (120, 64, 64)\n",
      "train_paths (160000, 16, 2)\n"
     ]
    }
   ],
   "source": [
    "import os.path as op\n",
    "model = load_model(\"model_2d_21.hf5\")\n",
    "arr_dir = \"/home/xiao/Projects/ST_LSTM_MP/Data/2D_map_64/Map_array\"\n",
    "train_paths = np.load(op.join(arr_dir, \"train_path.npy\"))\n",
    "maz = np.load(op.join(arr_dir, \"maz.npy\"))\n",
    "maz = np.rint(maz/255.0)\n",
    "# maz = maz * 2 - 1 #convert the value range [0, 1] to [-1, 1]\n",
    "\n",
    "print ('maz', maz.shape)\n",
    "print ('train_paths', train_paths.shape)"
   ]
  },
  {
   "cell_type": "code",
   "execution_count": 17,
   "id": "40ba9548",
   "metadata": {},
   "outputs": [
    {
     "name": "stdout",
     "output_type": "stream",
     "text": [
      "[57  3] [ 7 62]\n",
      "[ 7 60] [56  0]\n",
      "[59  3] [ 0 58]\n",
      "[ 0 61] [55  8]\n",
      "[13  2] [57 62]\n",
      "[53  5] [ 1 60]\n",
      "[61  2] [11 62]\n",
      "[ 6 12] [58 62]\n",
      "[60  3] [13 57]\n",
      "[10 59] [55  2]\n"
     ]
    }
   ],
   "source": [
    "for i in range(10):\n",
    "    print (train_paths[i,0], train_paths[i, -1] )"
   ]
  },
  {
   "cell_type": "code",
   "execution_count": 18,
   "id": "9b3de4be",
   "metadata": {},
   "outputs": [],
   "source": [
    "def augment_state(aug_state, curr_maz, v):\n",
    "    radius = 1\n",
    "    for row in range(aug_state[0]-radius, aug_state[0]+radius+1):\n",
    "        for col in range(aug_state[1]-radius, aug_state[1]+radius+1):\n",
    "            if 0 <= row < N and 0 <= col < N and curr_maz[0, row, col, 0]!= 1:\n",
    "                curr_maz[0, row, col, 0] = v\n",
    "    return curr_maz"
   ]
  },
  {
   "cell_type": "code",
   "execution_count": 19,
   "id": "d8d82982",
   "metadata": {},
   "outputs": [],
   "source": [
    "def collision_detection(state1, state2, curr_maz): #curr_maz shape: (1, N, N , 1)\n",
    "    distance = np.sqrt(np.sum(np.square(state1 - state2)))\n",
    "    check_interval = 0.05\n",
    "    check_num = int(distance//check_interval)\n",
    "    x = np.linspace(state1[0], state2[0], check_num)\n",
    "    y = np.linspace(state1[1], state2[1], check_num)\n",
    "#     print (x.shape)\n",
    "    for i in range(x.shape[0]):\n",
    "        if curr_maz[0, int(x[i]), int(y[i]), 0] == 1.0:\n",
    "            return True\n",
    "    return False\n",
    "    "
   ]
  },
  {
   "cell_type": "code",
   "execution_count": 20,
   "id": "b652d7d3",
   "metadata": {},
   "outputs": [],
   "source": [
    "def reach_goal(state1, state2): #state1 in the region of state2\n",
    "    region_radius = 3\n",
    "    if np.sum(np.absolute(state1-state2))<=3:\n",
    "        return True\n",
    "    else:\n",
    "        return False\n",
    "    "
   ]
  },
  {
   "cell_type": "code",
   "execution_count": 1,
   "id": "ee3b326d",
   "metadata": {},
   "outputs": [
    {
     "ename": "ModuleNotFoundError",
     "evalue": "No module named 'tensorflow'",
     "output_type": "error",
     "traceback": [
      "\u001b[0;31m---------------------------------------------------------------------------\u001b[0m",
      "\u001b[0;31mModuleNotFoundError\u001b[0m                       Traceback (most recent call last)",
      "Input \u001b[0;32mIn [1]\u001b[0m, in \u001b[0;36m<cell line: 2>\u001b[0;34m()\u001b[0m\n\u001b[1;32m      1\u001b[0m \u001b[38;5;66;03m#Path Construction\u001b[39;00m\n\u001b[0;32m----> 2\u001b[0m \u001b[38;5;28;01mimport\u001b[39;00m \u001b[38;5;21;01mtensorflow\u001b[39;00m \u001b[38;5;28;01mas\u001b[39;00m \u001b[38;5;21;01mtf\u001b[39;00m\n\u001b[1;32m      3\u001b[0m \u001b[38;5;28;01mimport\u001b[39;00m \u001b[38;5;21;01mtime\u001b[39;00m\n\u001b[1;32m      4\u001b[0m maz_id \u001b[38;5;241m=\u001b[39m \u001b[38;5;241m0\u001b[39m\n",
      "\u001b[0;31mModuleNotFoundError\u001b[0m: No module named 'tensorflow'"
     ]
    }
   ],
   "source": [
    "#Path Construction\n",
    "import tensorflow as tf\n",
    "import time\n",
    "maz_id = 0\n",
    "path_id = 400\n",
    "max_itr = 200\n",
    "start_v = 0.33\n",
    "goal_v = 0.66\n",
    "workspace = np.copy(maz[maz_id])\n",
    "all_paths = []\n",
    "all_iterations = []\n",
    "all_times = []\n",
    "start_time = time.time()\n",
    "for maze_id in range(100):\n",
    "    for path_id in range(1500, 2000):\n",
    "\n",
    "\n",
    "\n",
    "        # init_state = np.copy(train_configs[maz_id, path_id])\n",
    "        curr_state = train_paths[maz_id * 1600 + path_id, 0]\n",
    "        goal_state = train_paths[maz_id * 1600 + path_id, -1]\n",
    "\n",
    "        #environments with augmented goal state and w/o start state\n",
    "        workspace = workspace.reshape(1,N,N,1)\n",
    "        img_task = augment_state(goal_state, np.copy(workspace), goal_v) \n",
    "\n",
    "\n",
    "        #update the curr_task with respect to the robot state\n",
    "        curr_task = augment_state(curr_state, np.copy(img_task), start_v)\n",
    "        path = [curr_state]\n",
    "\n",
    "        for i in range(max_itr):\n",
    "            pred_prob = model(curr_task)\n",
    "            pred_sample = np.unravel_index(np.argsort(pred_prob[0,:,:,0], axis=None)[::-1], (N,N))\n",
    "        #     pred_sample = tf.argsort(pred_prob[0,:,:,0], direction=\"DESCENDING\")\n",
    "            pred_sample = np.stack(pred_sample, axis=-1)\n",
    "\n",
    "            for s in pred_sample:\n",
    "                flag = False\n",
    "                for p in path: #check the waypoint already exists in the path\n",
    "                    if p[0] == s[0] and p[1] == s[1]:\n",
    "                        flag = True\n",
    "                        break\n",
    "\n",
    "                if not collision_detection(path[-1], s, workspace) and not flag:#if no collision and not used\n",
    "                    path.append(s)\n",
    "                    curr_task = augment_state(s, np.copy(img_task), start_v)\n",
    "                    break\n",
    "            if reach_goal(path[-1], goal_state):\n",
    "                path.append(goal_state)\n",
    "                break\n",
    "        print ('path', path)\n",
    "        if (path[-1] == goal_state).all():\n",
    "            all_paths.append(path)\n",
    "            print ('success', path_id)\n",
    "        else:\n",
    "            all_paths.append([])\n",
    "            print ('fail', path_id)\n",
    "\n",
    "        all_iterations.append(i)\n",
    "        all_times.append(time.time()-start_time)\n",
    "    \n",
    "print ('the time cost', time.time()-start_time)\n",
    "    \n",
    "    \n",
    "    \n",
    "    \n",
    "    "
   ]
  },
  {
   "cell_type": "code",
   "execution_count": 2,
   "id": "a7040b11",
   "metadata": {
    "scrolled": true
   },
   "outputs": [
    {
     "ename": "NameError",
     "evalue": "name 'np' is not defined",
     "output_type": "error",
     "traceback": [
      "\u001b[0;31m---------------------------------------------------------------------------\u001b[0m",
      "\u001b[0;31mNameError\u001b[0m                                 Traceback (most recent call last)",
      "Input \u001b[0;32mIn [2]\u001b[0m, in \u001b[0;36m<cell line: 2>\u001b[0;34m()\u001b[0m\n\u001b[1;32m      1\u001b[0m success \u001b[38;5;241m=\u001b[39m \u001b[38;5;241m0\u001b[39m\n\u001b[0;32m----> 2\u001b[0m min_len \u001b[38;5;241m=\u001b[39m \u001b[43mnp\u001b[49m\u001b[38;5;241m.\u001b[39minf\n\u001b[1;32m      3\u001b[0m min_idx \u001b[38;5;241m=\u001b[39m \u001b[38;5;241m0\u001b[39m\n\u001b[1;32m      4\u001b[0m \u001b[38;5;28;01mfor\u001b[39;00m i \u001b[38;5;129;01min\u001b[39;00m \u001b[38;5;28mrange\u001b[39m(\u001b[38;5;28mlen\u001b[39m(all_paths)):\n",
      "\u001b[0;31mNameError\u001b[0m: name 'np' is not defined"
     ]
    }
   ],
   "source": [
    "\n",
    "success = 0\n",
    "min_len = np.inf\n",
    "min_idx = 0\n",
    "for i in range(len(all_paths)):\n",
    "    if len(all_paths[i]) > 0:\n",
    "        success += 1\n",
    "        if len(all_paths[i]) < min_len:\n",
    "            min_len = len(all_paths[i])\n",
    "            min_idx = i\n",
    "        \n",
    "print ('success rate', success/50)\n",
    "print ('avg ite', sum(all_iterations)/50)\n",
    "print ('avg time', sum(all_times)/50)\n",
    "print ('min idx', min_idx)\n",
    "print ('min len', min_len)"
   ]
  },
  {
   "cell_type": "code",
   "execution_count": 384,
   "id": "49b0ac29",
   "metadata": {},
   "outputs": [
    {
     "name": "stdout",
     "output_type": "stream",
     "text": [
      "[[59 13]\n",
      " [54 44]\n",
      " [53 45]\n",
      " [ 2 62]\n",
      " [ 1 60]]\n"
     ]
    }
   ],
   "source": [
    "vis_id = 40\n",
    "path = np.array(all_paths[vis_id])\n",
    "print (path)"
   ]
  },
  {
   "cell_type": "code",
   "execution_count": 387,
   "id": "8b872a37",
   "metadata": {},
   "outputs": [
    {
     "name": "stderr",
     "output_type": "stream",
     "text": [
      "/tmp/ipykernel_990192/1549701876.py:16: UserWarning: color is redundantly defined by the 'color' keyword argument and the fmt string \"ro-\" (-> color='r'). The keyword argument will take precedence.\n",
      "  plt.plot(x,y, 'ro-', color='blue')\n",
      "/tmp/ipykernel_990192/1549701876.py:18: UserWarning: color is redundantly defined by the 'color' keyword argument and the fmt string \"ro\" (-> color='r'). The keyword argument will take precedence.\n",
      "  plt.plot(x[0], y[0], 'ro', color='green')\n",
      "/tmp/ipykernel_990192/1549701876.py:19: UserWarning: color is redundantly defined by the 'color' keyword argument and the fmt string \"ro\" (-> color='r'). The keyword argument will take precedence.\n",
      "  plt.plot(x[-1], y[-1], 'ro', color='red')\n"
     ]
    },
    {
     "data": {
      "image/png": "[encoded data removed]",
      "text/plain": [
       "<Figure size 432x288 with 1 Axes>"
      ]
     },
     "metadata": {},
     "output_type": "display_data"
    }
   ],
   "source": [
    "# path = [[ 9, 62],[54, 44],[57,  24],[60,  8]]\n",
    "# path = [[14,  2], [17,  3], [17,  4], [19,  4], [22,  3], [55, 58], [58, 60]]\n",
    "path = [path[i] for i in [0,1,3,4]]\n",
    "\n",
    "# plt.imshow(test_seen_video[map_id,task_id,0])\n",
    "vis_env = workspace[0,:,:,0]\n",
    "# plt.imshow(vis_env.T)\n",
    "sns.heatmap(vis_env.T, cmap=\"YlGnBu\", cbar=False, xticklabels=False, yticklabels=False, square=True)\n",
    "\n",
    "plt.axis('off')\n",
    "# plt.gca().invert_yaxis()\n",
    "# plt.gca().invert_xaxis()\n",
    "# plt.gca().invert_yaxis()\n",
    "x = [x for x,y in path]\n",
    "y = [y for x,y in path]\n",
    "plt.plot(x,y, 'ro-', color='blue')\n",
    "\n",
    "plt.plot(x[0], y[0], 'ro', color='green')\n",
    "plt.plot(x[-1], y[-1], 'ro', color='red')\n",
    "\n",
    "plt.show()\n",
    "\n",
    "\n"
   ]
  },
  {
   "cell_type": "code",
   "execution_count": 436,
   "id": "04d705dd",
   "metadata": {},
   "outputs": [
    {
     "data": {
      "text/plain": [
       "<AxesSubplot:>"
      ]
     },
     "execution_count": 436,
     "metadata": {},
     "output_type": "execute_result"
    },
    {
     "data": {
      "image/png": "[encoded data removed]",
      "text/plain": [
       "<Figure size 432x288 with 1 Axes>"
      ]
     },
     "metadata": {},
     "output_type": "display_data"
    }
   ],
   "source": [
    "# node 0\n",
    "curr_task = augment_state(path[0], np.copy(img_task), start_v)\n",
    "sns.heatmap(curr_task[0,:,:,0].T, cmap=\"YlGnBu\", cbar=False, xticklabels=False, yticklabels=False, square=True)"
   ]
  },
  {
   "cell_type": "code",
   "execution_count": 430,
   "id": "ebecab0f",
   "metadata": {},
   "outputs": [
    {
     "data": {
      "text/plain": [
       "<AxesSubplot:>"
      ]
     },
     "execution_count": 430,
     "metadata": {},
     "output_type": "execute_result"
    },
    {
     "data": {
      "image/png": "[encoded data removed]",
      "text/plain": [
       "<Figure size 432x288 with 1 Axes>"
      ]
     },
     "metadata": {},
     "output_type": "display_data"
    }
   ],
   "source": [
    "output1 = model(curr_task)\n",
    "output1 = np.array(output1[0,:,:,0])\n",
    "# sns.heatmap(vis_env.T, cmap=\"YlGnBu\", cbar=False, xticklabels=False, yticklabels=False, square=True)\n",
    "# plt.axis('off')\n",
    "# plt.imshow(output1.T)\n",
    "sns.heatmap(output1.T, cmap=\"YlGnBu\", cbar=False, xticklabels=False, yticklabels=False, square=True)"
   ]
  },
  {
   "cell_type": "code",
   "execution_count": 437,
   "id": "5b74bdff",
   "metadata": {},
   "outputs": [
    {
     "data": {
      "text/plain": [
       "<AxesSubplot:>"
      ]
     },
     "execution_count": 437,
     "metadata": {},
     "output_type": "execute_result"
    },
    {
     "data": {
      "image/png": "[encoded data removed]",
      "text/plain": [
       "<Figure size 432x288 with 1 Axes>"
      ]
     },
     "metadata": {},
     "output_type": "display_data"
    }
   ],
   "source": [
    "# node 1\n",
    "curr_task = augment_state(path[1], np.copy(img_task), start_v)\n",
    "sns.heatmap(curr_task[0,:,:,0].T, cmap=\"YlGnBu\", cbar=False, xticklabels=False, yticklabels=False, square=True)"
   ]
  },
  {
   "cell_type": "code",
   "execution_count": 438,
   "id": "cd936f38",
   "metadata": {},
   "outputs": [
    {
     "data": {
      "text/plain": [
       "<AxesSubplot:>"
      ]
     },
     "execution_count": 438,
     "metadata": {},
     "output_type": "execute_result"
    },
    {
     "data": {
      "image/png": "[encoded data removed]",
      "text/plain": [
       "<Figure size 432x288 with 1 Axes>"
      ]
     },
     "metadata": {},
     "output_type": "display_data"
    }
   ],
   "source": [
    "output1 = model(curr_task)\n",
    "output1 = np.array(output1[0,:,:,0])\n",
    "# sns.heatmap(vis_env.T, cmap=\"YlGnBu\", cbar=False, xticklabels=False, yticklabels=False, square=True)\n",
    "# plt.axis('off')\n",
    "# plt.imshow(output1.T)\n",
    "sns.heatmap(output1.T, cmap=\"YlGnBu\", cbar=False, xticklabels=False, yticklabels=False, square=True)"
   ]
  },
  {
   "cell_type": "code",
   "execution_count": 433,
   "id": "b2cd4ed4",
   "metadata": {},
   "outputs": [
    {
     "data": {
      "text/plain": [
       "<AxesSubplot:>"
      ]
     },
     "execution_count": 433,
     "metadata": {},
     "output_type": "execute_result"
    },
    {
     "data": {
      "image/png": "[encoded data removed]",
      "text/plain": [
       "<Figure size 432x288 with 1 Axes>"
      ]
     },
     "metadata": {},
     "output_type": "display_data"
    }
   ],
   "source": [
    "# node 2\n",
    "curr_task = augment_state(path[2], np.copy(img_task), start_v)\n",
    "sns.heatmap(curr_task[0,:,:,0].T, cmap=\"YlGnBu\", cbar=False, xticklabels=False, yticklabels=False, square=True)"
   ]
  },
  {
   "cell_type": "code",
   "execution_count": 434,
   "id": "42673c7c",
   "metadata": {},
   "outputs": [
    {
     "data": {
      "text/plain": [
       "<AxesSubplot:>"
      ]
     },
     "execution_count": 434,
     "metadata": {},
     "output_type": "execute_result"
    },
    {
     "data": {
      "image/png": "[encoded data removed]",
      "text/plain": [
       "<Figure size 432x288 with 1 Axes>"
      ]
     },
     "metadata": {},
     "output_type": "display_data"
    }
   ],
   "source": [
    "output1 = model(curr_task)\n",
    "output1 = np.array(output1[0,:,:,0])\n",
    "# sns.heatmap(vis_env.T, cmap=\"YlGnBu\", cbar=False, xticklabels=False, yticklabels=False, square=True)\n",
    "# plt.axis('off')\n",
    "# plt.imshow(output1.T)\n",
    "sns.heatmap(output1.T, cmap=\"YlGnBu\", cbar=False, xticklabels=False, yticklabels=False, square=True)"
   ]
  },
  {
   "cell_type": "code",
   "execution_count": null,
   "id": "b80f3b63",
   "metadata": {},
   "outputs": [],
   "source": []
  }
 ],
 "metadata": {
  "kernelspec": {
   "display_name": "Python 3 (ipykernel)",
   "language": "python",
   "name": "python3"
  },
  "language_info": {
   "codemirror_mode": {
    "name": "ipython",
    "version": 3
   },
   "file_extension": ".py",
   "mimetype": "text/x-python",
   "name": "python",
   "nbconvert_exporter": "python",
   "pygments_lexer": "ipython3",
   "version": "3.9.11"
  }
 },
 "nbformat": 4,
 "nbformat_minor": 5
}
