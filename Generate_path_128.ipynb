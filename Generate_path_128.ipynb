{
 "cells": [
  {
   "cell_type": "code",
   "execution_count": 1,
   "id": "1fd65e54",
   "metadata": {},
   "outputs": [
    {
     "name": "stdout",
     "output_type": "stream",
     "text": [
      "x_train (14700, 128, 128)\n"
     ]
    }
   ],
   "source": [
    "import keras\n",
    "from keras.layers import Input, Conv2D, Dropout\n",
    "from tensorflow.keras.layers import BatchNormalization\n",
    "from keras.models import Model, load_model\n",
    "from keras.callbacks import EarlyStopping, ModelCheckpoint\n",
    "import os \n",
    "os.environ['CUDA_VISIBLE_DEVICES'] = '-1'\n",
    "    \n",
    "import numpy as np\n",
    "\n",
    "x_train = np.load(\"data/all_input_128.npy\").astype(np.float32)\n",
    "y_train = np.load(\"data/all_output_128.npy\").astype(np.float32)\n",
    "print ('x_train', x_train.shape) #320000 x 128 x 128: 128 -- size of maps, 3200000: number data points\n",
    "\n",
    "# np.save(\"data/small_input.npy\", x_train[:300,:,:])\n",
    "# np.save(\"data/small_output.npy\", y_train[:300,:,:])\n",
    "\n",
    "# x_train = np.load(\"data/small_input.npy\").astype(np.float32)\n",
    "# y_train = np.load(\"data/small_output.npy\").astype(np.float32)\n",
    "\n",
    "n_train = 13000\n",
    "N = x_train.shape[1]\n",
    "x_train = x_train[:n_train, :, :]\n",
    "y_train = y_train[:n_train, :, :]"
   ]
  },
  {
   "cell_type": "code",
   "execution_count": 2,
   "id": "04c0b63f",
   "metadata": {},
   "outputs": [],
   "source": [
    "import seaborn as sns; sns.set()\n",
    "import matplotlib.pyplot as plt"
   ]
  },
  {
   "cell_type": "code",
   "execution_count": 3,
   "id": "86810c6e",
   "metadata": {},
   "outputs": [
    {
     "data": {
      "image/png": "[encoded data removed]",
      "text/plain": [
       "<Figure size 432x288 with 1 Axes>"
      ]
     },
     "metadata": {},
     "output_type": "display_data"
    }
   ],
   "source": [
    "ax = sns.heatmap(x_train[0].T, cmap=\"YlGnBu\", cbar=False, xticklabels=False, yticklabels=False, square=True)\n"
   ]
  },
  {
   "cell_type": "code",
   "execution_count": 4,
   "id": "9cd136bb",
   "metadata": {},
   "outputs": [
    {
     "data": {
      "image/png": "[encoded data removed]",
      "text/plain": [
       "<Figure size 432x288 with 1 Axes>"
      ]
     },
     "metadata": {},
     "output_type": "display_data"
    }
   ],
   "source": [
    "ay = sns.heatmap(y_train[0].T, cmap=\"YlGnBu\", cbar=False, xticklabels=False, yticklabels=False, square=True)"
   ]
  },
  {
   "cell_type": "code",
   "execution_count": 5,
   "id": "0881d7a8",
   "metadata": {},
   "outputs": [
    {
     "name": "stdout",
     "output_type": "stream",
     "text": [
      "Model: \"model\"\n",
      "_________________________________________________________________\n",
      " Layer (type)                Output Shape              Param #   \n",
      "=================================================================\n",
      " input_1 (InputLayer)        [(None, 128, 128, 1)]     0         \n",
      "                                                                 \n",
      " conv2d (Conv2D)             (None, 128, 128, 64)      640       \n",
      "                                                                 \n",
      " batch_normalization (BatchN  (None, 128, 128, 64)     256       \n",
      " ormalization)                                                   \n",
      "                                                                 \n",
      " conv2d_1 (Conv2D)           (None, 128, 128, 64)      36928     \n",
      "                                                                 \n",
      " batch_normalization_1 (Batc  (None, 128, 128, 64)     256       \n",
      " hNormalization)                                                 \n",
      "                                                                 \n",
      " conv2d_2 (Conv2D)           (None, 128, 128, 64)      36928     \n",
      "                                                                 \n",
      " batch_normalization_2 (Batc  (None, 128, 128, 64)     256       \n",
      " hNormalization)                                                 \n",
      "                                                                 \n",
      " conv2d_3 (Conv2D)           (None, 128, 128, 64)      36928     \n",
      "                                                                 \n",
      " batch_normalization_3 (Batc  (None, 128, 128, 64)     256       \n",
      " hNormalization)                                                 \n",
      "                                                                 \n",
      " conv2d_4 (Conv2D)           (None, 128, 128, 64)      36928     \n",
      "                                                                 \n",
      " batch_normalization_4 (Batc  (None, 128, 128, 64)     256       \n",
      " hNormalization)                                                 \n",
      "                                                                 \n",
      " conv2d_5 (Conv2D)           (None, 128, 128, 64)      36928     \n",
      "                                                                 \n",
      " batch_normalization_5 (Batc  (None, 128, 128, 64)     256       \n",
      " hNormalization)                                                 \n",
      "                                                                 \n",
      " conv2d_6 (Conv2D)           (None, 128, 128, 64)      36928     \n",
      "                                                                 \n",
      " batch_normalization_6 (Batc  (None, 128, 128, 64)     256       \n",
      " hNormalization)                                                 \n",
      "                                                                 \n",
      " conv2d_7 (Conv2D)           (None, 128, 128, 64)      36928     \n",
      "                                                                 \n",
      " batch_normalization_7 (Batc  (None, 128, 128, 64)     256       \n",
      " hNormalization)                                                 \n",
      "                                                                 \n",
      " conv2d_8 (Conv2D)           (None, 128, 128, 64)      36928     \n",
      "                                                                 \n",
      " batch_normalization_8 (Batc  (None, 128, 128, 64)     256       \n",
      " hNormalization)                                                 \n",
      "                                                                 \n",
      " conv2d_9 (Conv2D)           (None, 128, 128, 64)      36928     \n",
      "                                                                 \n",
      " batch_normalization_9 (Batc  (None, 128, 128, 64)     256       \n",
      " hNormalization)                                                 \n",
      "                                                                 \n",
      " conv2d_10 (Conv2D)          (None, 128, 128, 64)      36928     \n",
      "                                                                 \n",
      " batch_normalization_10 (Bat  (None, 128, 128, 64)     256       \n",
      " chNormalization)                                                \n",
      "                                                                 \n",
      " conv2d_11 (Conv2D)          (None, 128, 128, 1)       577       \n",
      "                                                                 \n",
      " batch_normalization_11 (Bat  (None, 128, 128, 1)      4         \n",
      " chNormalization)                                                \n",
      "                                                                 \n",
      " dropout (Dropout)           (None, 128, 128, 1)       0         \n",
      "                                                                 \n",
      "=================================================================\n",
      "Total params: 373,317\n",
      "Trainable params: 371,907\n",
      "Non-trainable params: 1,410\n",
      "_________________________________________________________________\n"
     ]
    },
    {
     "name": "stderr",
     "output_type": "stream",
     "text": [
      "2022-02-14 00:57:32.086594: E tensorflow/stream_executor/cuda/cuda_driver.cc:271] failed call to cuInit: CUDA_ERROR_NO_DEVICE: no CUDA-capable device is detected\n",
      "2022-02-14 00:57:32.086657: I tensorflow/stream_executor/cuda/cuda_diagnostics.cc:169] retrieving CUDA diagnostic information for host: ubuntu20\n",
      "2022-02-14 00:57:32.086670: I tensorflow/stream_executor/cuda/cuda_diagnostics.cc:176] hostname: ubuntu20\n",
      "2022-02-14 00:57:32.086869: I tensorflow/stream_executor/cuda/cuda_diagnostics.cc:200] libcuda reported version is: 465.19.1\n",
      "2022-02-14 00:57:32.086913: I tensorflow/stream_executor/cuda/cuda_diagnostics.cc:204] kernel reported version is: 465.19.1\n",
      "2022-02-14 00:57:32.086923: I tensorflow/stream_executor/cuda/cuda_diagnostics.cc:310] kernel version seems to match DSO: 465.19.1\n",
      "2022-02-14 00:57:32.087379: I tensorflow/core/platform/cpu_feature_guard.cc:151] This TensorFlow binary is optimized with oneAPI Deep Neural Network Library (oneDNN) to use the following CPU instructions in performance-critical operations:  AVX2 FMA\n",
      "To enable them in other operations, rebuild TensorFlow with the appropriate compiler flags.\n"
     ]
    },
    {
     "name": "stdout",
     "output_type": "stream",
     "text": [
      "Train network ...\n",
      "Epoch 1/50\n"
     ]
    },
    {
     "ename": "KeyboardInterrupt",
     "evalue": "",
     "output_type": "error",
     "traceback": [
      "\u001b[0;31m---------------------------------------------------------------------------\u001b[0m",
      "\u001b[0;31mKeyboardInterrupt\u001b[0m                         Traceback (most recent call last)",
      "Input \u001b[0;32mIn [5]\u001b[0m, in \u001b[0;36m<module>\u001b[0;34m\u001b[0m\n\u001b[1;32m     23\u001b[0m model\u001b[38;5;241m.\u001b[39mcompile(optimizer\u001b[38;5;241m=\u001b[39mopt, loss\u001b[38;5;241m=\u001b[39m\u001b[38;5;124m'\u001b[39m\u001b[38;5;124mmse\u001b[39m\u001b[38;5;124m'\u001b[39m,metrics\u001b[38;5;241m=\u001b[39m[\u001b[38;5;124m'\u001b[39m\u001b[38;5;124maccuracy\u001b[39m\u001b[38;5;124m'\u001b[39m])\n\u001b[1;32m     25\u001b[0m \u001b[38;5;66;03m# model.compile(optimizer='adam',loss='mse',metrics=['accuracy'])\u001b[39;00m\n\u001b[0;32m---> 26\u001b[0m \u001b[43mmodel\u001b[49m\u001b[38;5;241;43m.\u001b[39;49m\u001b[43mfit\u001b[49m\u001b[43m(\u001b[49m\u001b[43mx_train\u001b[49m\u001b[38;5;241;43m.\u001b[39;49m\u001b[43mreshape\u001b[49m\u001b[43m(\u001b[49m\u001b[43mn_train\u001b[49m\u001b[43m,\u001b[49m\u001b[43mN\u001b[49m\u001b[43m,\u001b[49m\u001b[43mN\u001b[49m\u001b[43m,\u001b[49m\u001b[38;5;241;43m1\u001b[39;49m\u001b[43m)\u001b[49m\u001b[43m,\u001b[49m\u001b[43m \u001b[49m\u001b[43my_train\u001b[49m\u001b[38;5;241;43m.\u001b[39;49m\u001b[43mreshape\u001b[49m\u001b[43m(\u001b[49m\u001b[43mn_train\u001b[49m\u001b[43m,\u001b[49m\u001b[43mN\u001b[49m\u001b[43m,\u001b[49m\u001b[43mN\u001b[49m\u001b[43m,\u001b[49m\u001b[38;5;241;43m1\u001b[39;49m\u001b[43m)\u001b[49m\u001b[43m,\u001b[49m\u001b[43m \u001b[49m\u001b[43mbatch_size\u001b[49m\u001b[38;5;241;43m=\u001b[39;49m\u001b[38;5;241;43m64\u001b[39;49m\u001b[43m,\u001b[49m\u001b[43m \u001b[49m\u001b[43mvalidation_split\u001b[49m\u001b[38;5;241;43m=\u001b[39;49m\u001b[38;5;241;43m1\u001b[39;49m\u001b[38;5;241;43m/\u001b[39;49m\u001b[38;5;241;43m14\u001b[39;49m\u001b[43m,\u001b[49m\u001b[43m \u001b[49m\u001b[43mepochs\u001b[49m\u001b[38;5;241;43m=\u001b[39;49m\u001b[38;5;241;43m50\u001b[39;49m\u001b[43m,\u001b[49m\u001b[43m \u001b[49m\u001b[43mverbose\u001b[49m\u001b[38;5;241;43m=\u001b[39;49m\u001b[38;5;241;43m1\u001b[39;49m\u001b[43m)\u001b[49m\n\u001b[1;32m     27\u001b[0m \u001b[38;5;28mprint\u001b[39m(\u001b[38;5;124m'\u001b[39m\u001b[38;5;124mSave trained model ...\u001b[39m\u001b[38;5;124m'\u001b[39m)\n\u001b[1;32m     28\u001b[0m model\u001b[38;5;241m.\u001b[39msave(\u001b[38;5;124m\"\u001b[39m\u001b[38;5;124m128_model_2d_12.hf5\u001b[39m\u001b[38;5;124m\"\u001b[39m)\n",
      "File \u001b[0;32m~/anaconda3/envs/keras/lib/python3.10/site-packages/keras/utils/traceback_utils.py:64\u001b[0m, in \u001b[0;36mfilter_traceback.<locals>.error_handler\u001b[0;34m(*args, **kwargs)\u001b[0m\n\u001b[1;32m     62\u001b[0m filtered_tb \u001b[38;5;241m=\u001b[39m \u001b[38;5;28;01mNone\u001b[39;00m\n\u001b[1;32m     63\u001b[0m \u001b[38;5;28;01mtry\u001b[39;00m:\n\u001b[0;32m---> 64\u001b[0m   \u001b[38;5;28;01mreturn\u001b[39;00m \u001b[43mfn\u001b[49m\u001b[43m(\u001b[49m\u001b[38;5;241;43m*\u001b[39;49m\u001b[43margs\u001b[49m\u001b[43m,\u001b[49m\u001b[43m \u001b[49m\u001b[38;5;241;43m*\u001b[39;49m\u001b[38;5;241;43m*\u001b[39;49m\u001b[43mkwargs\u001b[49m\u001b[43m)\u001b[49m\n\u001b[1;32m     65\u001b[0m \u001b[38;5;28;01mexcept\u001b[39;00m \u001b[38;5;167;01mException\u001b[39;00m \u001b[38;5;28;01mas\u001b[39;00m e:  \u001b[38;5;66;03m# pylint: disable=broad-except\u001b[39;00m\n\u001b[1;32m     66\u001b[0m   filtered_tb \u001b[38;5;241m=\u001b[39m _process_traceback_frames(e\u001b[38;5;241m.\u001b[39m__traceback__)\n",
      "File \u001b[0;32m~/anaconda3/envs/keras/lib/python3.10/site-packages/keras/engine/training.py:1384\u001b[0m, in \u001b[0;36mModel.fit\u001b[0;34m(self, x, y, batch_size, epochs, verbose, callbacks, validation_split, validation_data, shuffle, class_weight, sample_weight, initial_epoch, steps_per_epoch, validation_steps, validation_batch_size, validation_freq, max_queue_size, workers, use_multiprocessing)\u001b[0m\n\u001b[1;32m   1377\u001b[0m \u001b[38;5;28;01mwith\u001b[39;00m tf\u001b[38;5;241m.\u001b[39mprofiler\u001b[38;5;241m.\u001b[39mexperimental\u001b[38;5;241m.\u001b[39mTrace(\n\u001b[1;32m   1378\u001b[0m     \u001b[38;5;124m'\u001b[39m\u001b[38;5;124mtrain\u001b[39m\u001b[38;5;124m'\u001b[39m,\n\u001b[1;32m   1379\u001b[0m     epoch_num\u001b[38;5;241m=\u001b[39mepoch,\n\u001b[1;32m   1380\u001b[0m     step_num\u001b[38;5;241m=\u001b[39mstep,\n\u001b[1;32m   1381\u001b[0m     batch_size\u001b[38;5;241m=\u001b[39mbatch_size,\n\u001b[1;32m   1382\u001b[0m     _r\u001b[38;5;241m=\u001b[39m\u001b[38;5;241m1\u001b[39m):\n\u001b[1;32m   1383\u001b[0m   callbacks\u001b[38;5;241m.\u001b[39mon_train_batch_begin(step)\n\u001b[0;32m-> 1384\u001b[0m   tmp_logs \u001b[38;5;241m=\u001b[39m \u001b[38;5;28;43mself\u001b[39;49m\u001b[38;5;241;43m.\u001b[39;49m\u001b[43mtrain_function\u001b[49m\u001b[43m(\u001b[49m\u001b[43miterator\u001b[49m\u001b[43m)\u001b[49m\n\u001b[1;32m   1385\u001b[0m   \u001b[38;5;28;01mif\u001b[39;00m data_handler\u001b[38;5;241m.\u001b[39mshould_sync:\n\u001b[1;32m   1386\u001b[0m     context\u001b[38;5;241m.\u001b[39masync_wait()\n",
      "File \u001b[0;32m~/anaconda3/envs/keras/lib/python3.10/site-packages/tensorflow/python/util/traceback_utils.py:150\u001b[0m, in \u001b[0;36mfilter_traceback.<locals>.error_handler\u001b[0;34m(*args, **kwargs)\u001b[0m\n\u001b[1;32m    148\u001b[0m filtered_tb \u001b[38;5;241m=\u001b[39m \u001b[38;5;28;01mNone\u001b[39;00m\n\u001b[1;32m    149\u001b[0m \u001b[38;5;28;01mtry\u001b[39;00m:\n\u001b[0;32m--> 150\u001b[0m   \u001b[38;5;28;01mreturn\u001b[39;00m \u001b[43mfn\u001b[49m\u001b[43m(\u001b[49m\u001b[38;5;241;43m*\u001b[39;49m\u001b[43margs\u001b[49m\u001b[43m,\u001b[49m\u001b[43m \u001b[49m\u001b[38;5;241;43m*\u001b[39;49m\u001b[38;5;241;43m*\u001b[39;49m\u001b[43mkwargs\u001b[49m\u001b[43m)\u001b[49m\n\u001b[1;32m    151\u001b[0m \u001b[38;5;28;01mexcept\u001b[39;00m \u001b[38;5;167;01mException\u001b[39;00m \u001b[38;5;28;01mas\u001b[39;00m e:\n\u001b[1;32m    152\u001b[0m   filtered_tb \u001b[38;5;241m=\u001b[39m _process_traceback_frames(e\u001b[38;5;241m.\u001b[39m__traceback__)\n",
      "File \u001b[0;32m~/anaconda3/envs/keras/lib/python3.10/site-packages/tensorflow/python/eager/def_function.py:915\u001b[0m, in \u001b[0;36mFunction.__call__\u001b[0;34m(self, *args, **kwds)\u001b[0m\n\u001b[1;32m    912\u001b[0m compiler \u001b[38;5;241m=\u001b[39m \u001b[38;5;124m\"\u001b[39m\u001b[38;5;124mxla\u001b[39m\u001b[38;5;124m\"\u001b[39m \u001b[38;5;28;01mif\u001b[39;00m \u001b[38;5;28mself\u001b[39m\u001b[38;5;241m.\u001b[39m_jit_compile \u001b[38;5;28;01melse\u001b[39;00m \u001b[38;5;124m\"\u001b[39m\u001b[38;5;124mnonXla\u001b[39m\u001b[38;5;124m\"\u001b[39m\n\u001b[1;32m    914\u001b[0m \u001b[38;5;28;01mwith\u001b[39;00m OptionalXlaContext(\u001b[38;5;28mself\u001b[39m\u001b[38;5;241m.\u001b[39m_jit_compile):\n\u001b[0;32m--> 915\u001b[0m   result \u001b[38;5;241m=\u001b[39m \u001b[38;5;28;43mself\u001b[39;49m\u001b[38;5;241;43m.\u001b[39;49m\u001b[43m_call\u001b[49m\u001b[43m(\u001b[49m\u001b[38;5;241;43m*\u001b[39;49m\u001b[43margs\u001b[49m\u001b[43m,\u001b[49m\u001b[43m \u001b[49m\u001b[38;5;241;43m*\u001b[39;49m\u001b[38;5;241;43m*\u001b[39;49m\u001b[43mkwds\u001b[49m\u001b[43m)\u001b[49m\n\u001b[1;32m    917\u001b[0m new_tracing_count \u001b[38;5;241m=\u001b[39m \u001b[38;5;28mself\u001b[39m\u001b[38;5;241m.\u001b[39mexperimental_get_tracing_count()\n\u001b[1;32m    918\u001b[0m without_tracing \u001b[38;5;241m=\u001b[39m (tracing_count \u001b[38;5;241m==\u001b[39m new_tracing_count)\n",
      "File \u001b[0;32m~/anaconda3/envs/keras/lib/python3.10/site-packages/tensorflow/python/eager/def_function.py:980\u001b[0m, in \u001b[0;36mFunction._call\u001b[0;34m(self, *args, **kwds)\u001b[0m\n\u001b[1;32m    976\u001b[0m     \u001b[38;5;28;01mpass\u001b[39;00m  \u001b[38;5;66;03m# Fall through to cond-based initialization.\u001b[39;00m\n\u001b[1;32m    977\u001b[0m   \u001b[38;5;28;01melse\u001b[39;00m:\n\u001b[1;32m    978\u001b[0m     \u001b[38;5;66;03m# Lifting succeeded, so variables are initialized and we can run the\u001b[39;00m\n\u001b[1;32m    979\u001b[0m     \u001b[38;5;66;03m# stateless function.\u001b[39;00m\n\u001b[0;32m--> 980\u001b[0m     \u001b[38;5;28;01mreturn\u001b[39;00m \u001b[38;5;28;43mself\u001b[39;49m\u001b[38;5;241;43m.\u001b[39;49m\u001b[43m_stateless_fn\u001b[49m\u001b[43m(\u001b[49m\u001b[38;5;241;43m*\u001b[39;49m\u001b[43margs\u001b[49m\u001b[43m,\u001b[49m\u001b[43m \u001b[49m\u001b[38;5;241;43m*\u001b[39;49m\u001b[38;5;241;43m*\u001b[39;49m\u001b[43mkwds\u001b[49m\u001b[43m)\u001b[49m\n\u001b[1;32m    981\u001b[0m \u001b[38;5;28;01melse\u001b[39;00m:\n\u001b[1;32m    982\u001b[0m   _, _, _, filtered_flat_args \u001b[38;5;241m=\u001b[39m \\\n\u001b[1;32m    983\u001b[0m       \u001b[38;5;28mself\u001b[39m\u001b[38;5;241m.\u001b[39m_stateful_fn\u001b[38;5;241m.\u001b[39m_function_spec\u001b[38;5;241m.\u001b[39mcanonicalize_function_inputs(  \u001b[38;5;66;03m# pylint: disable=protected-access\u001b[39;00m\n\u001b[1;32m    984\u001b[0m           \u001b[38;5;241m*\u001b[39margs, \u001b[38;5;241m*\u001b[39m\u001b[38;5;241m*\u001b[39mkwds)\n",
      "File \u001b[0;32m~/anaconda3/envs/keras/lib/python3.10/site-packages/tensorflow/python/eager/function.py:2956\u001b[0m, in \u001b[0;36mFunction.__call__\u001b[0;34m(self, *args, **kwargs)\u001b[0m\n\u001b[1;32m   2953\u001b[0m \u001b[38;5;28;01mwith\u001b[39;00m \u001b[38;5;28mself\u001b[39m\u001b[38;5;241m.\u001b[39m_lock:\n\u001b[1;32m   2954\u001b[0m   (graph_function,\n\u001b[1;32m   2955\u001b[0m    filtered_flat_args) \u001b[38;5;241m=\u001b[39m \u001b[38;5;28mself\u001b[39m\u001b[38;5;241m.\u001b[39m_maybe_define_function(args, kwargs)\n\u001b[0;32m-> 2956\u001b[0m \u001b[38;5;28;01mreturn\u001b[39;00m \u001b[43mgraph_function\u001b[49m\u001b[38;5;241;43m.\u001b[39;49m\u001b[43m_call_flat\u001b[49m\u001b[43m(\u001b[49m\n\u001b[1;32m   2957\u001b[0m \u001b[43m    \u001b[49m\u001b[43mfiltered_flat_args\u001b[49m\u001b[43m,\u001b[49m\u001b[43m \u001b[49m\u001b[43mcaptured_inputs\u001b[49m\u001b[38;5;241;43m=\u001b[39;49m\u001b[43mgraph_function\u001b[49m\u001b[38;5;241;43m.\u001b[39;49m\u001b[43mcaptured_inputs\u001b[49m\u001b[43m)\u001b[49m\n",
      "File \u001b[0;32m~/anaconda3/envs/keras/lib/python3.10/site-packages/tensorflow/python/eager/function.py:1853\u001b[0m, in \u001b[0;36mConcreteFunction._call_flat\u001b[0;34m(self, args, captured_inputs, cancellation_manager)\u001b[0m\n\u001b[1;32m   1849\u001b[0m possible_gradient_type \u001b[38;5;241m=\u001b[39m gradients_util\u001b[38;5;241m.\u001b[39mPossibleTapeGradientTypes(args)\n\u001b[1;32m   1850\u001b[0m \u001b[38;5;28;01mif\u001b[39;00m (possible_gradient_type \u001b[38;5;241m==\u001b[39m gradients_util\u001b[38;5;241m.\u001b[39mPOSSIBLE_GRADIENT_TYPES_NONE\n\u001b[1;32m   1851\u001b[0m     \u001b[38;5;129;01mand\u001b[39;00m executing_eagerly):\n\u001b[1;32m   1852\u001b[0m   \u001b[38;5;66;03m# No tape is watching; skip to running the function.\u001b[39;00m\n\u001b[0;32m-> 1853\u001b[0m   \u001b[38;5;28;01mreturn\u001b[39;00m \u001b[38;5;28mself\u001b[39m\u001b[38;5;241m.\u001b[39m_build_call_outputs(\u001b[38;5;28;43mself\u001b[39;49m\u001b[38;5;241;43m.\u001b[39;49m\u001b[43m_inference_function\u001b[49m\u001b[38;5;241;43m.\u001b[39;49m\u001b[43mcall\u001b[49m\u001b[43m(\u001b[49m\n\u001b[1;32m   1854\u001b[0m \u001b[43m      \u001b[49m\u001b[43mctx\u001b[49m\u001b[43m,\u001b[49m\u001b[43m \u001b[49m\u001b[43margs\u001b[49m\u001b[43m,\u001b[49m\u001b[43m \u001b[49m\u001b[43mcancellation_manager\u001b[49m\u001b[38;5;241;43m=\u001b[39;49m\u001b[43mcancellation_manager\u001b[49m\u001b[43m)\u001b[49m)\n\u001b[1;32m   1855\u001b[0m forward_backward \u001b[38;5;241m=\u001b[39m \u001b[38;5;28mself\u001b[39m\u001b[38;5;241m.\u001b[39m_select_forward_and_backward_functions(\n\u001b[1;32m   1856\u001b[0m     args,\n\u001b[1;32m   1857\u001b[0m     possible_gradient_type,\n\u001b[1;32m   1858\u001b[0m     executing_eagerly)\n\u001b[1;32m   1859\u001b[0m forward_function, args_with_tangents \u001b[38;5;241m=\u001b[39m forward_backward\u001b[38;5;241m.\u001b[39mforward()\n",
      "File \u001b[0;32m~/anaconda3/envs/keras/lib/python3.10/site-packages/tensorflow/python/eager/function.py:499\u001b[0m, in \u001b[0;36m_EagerDefinedFunction.call\u001b[0;34m(self, ctx, args, cancellation_manager)\u001b[0m\n\u001b[1;32m    497\u001b[0m \u001b[38;5;28;01mwith\u001b[39;00m _InterpolateFunctionError(\u001b[38;5;28mself\u001b[39m):\n\u001b[1;32m    498\u001b[0m   \u001b[38;5;28;01mif\u001b[39;00m cancellation_manager \u001b[38;5;129;01mis\u001b[39;00m \u001b[38;5;28;01mNone\u001b[39;00m:\n\u001b[0;32m--> 499\u001b[0m     outputs \u001b[38;5;241m=\u001b[39m \u001b[43mexecute\u001b[49m\u001b[38;5;241;43m.\u001b[39;49m\u001b[43mexecute\u001b[49m\u001b[43m(\u001b[49m\n\u001b[1;32m    500\u001b[0m \u001b[43m        \u001b[49m\u001b[38;5;28;43mstr\u001b[39;49m\u001b[43m(\u001b[49m\u001b[38;5;28;43mself\u001b[39;49m\u001b[38;5;241;43m.\u001b[39;49m\u001b[43msignature\u001b[49m\u001b[38;5;241;43m.\u001b[39;49m\u001b[43mname\u001b[49m\u001b[43m)\u001b[49m\u001b[43m,\u001b[49m\n\u001b[1;32m    501\u001b[0m \u001b[43m        \u001b[49m\u001b[43mnum_outputs\u001b[49m\u001b[38;5;241;43m=\u001b[39;49m\u001b[38;5;28;43mself\u001b[39;49m\u001b[38;5;241;43m.\u001b[39;49m\u001b[43m_num_outputs\u001b[49m\u001b[43m,\u001b[49m\n\u001b[1;32m    502\u001b[0m \u001b[43m        \u001b[49m\u001b[43minputs\u001b[49m\u001b[38;5;241;43m=\u001b[39;49m\u001b[43margs\u001b[49m\u001b[43m,\u001b[49m\n\u001b[1;32m    503\u001b[0m \u001b[43m        \u001b[49m\u001b[43mattrs\u001b[49m\u001b[38;5;241;43m=\u001b[39;49m\u001b[43mattrs\u001b[49m\u001b[43m,\u001b[49m\n\u001b[1;32m    504\u001b[0m \u001b[43m        \u001b[49m\u001b[43mctx\u001b[49m\u001b[38;5;241;43m=\u001b[39;49m\u001b[43mctx\u001b[49m\u001b[43m)\u001b[49m\n\u001b[1;32m    505\u001b[0m   \u001b[38;5;28;01melse\u001b[39;00m:\n\u001b[1;32m    506\u001b[0m     outputs \u001b[38;5;241m=\u001b[39m execute\u001b[38;5;241m.\u001b[39mexecute_with_cancellation(\n\u001b[1;32m    507\u001b[0m         \u001b[38;5;28mstr\u001b[39m(\u001b[38;5;28mself\u001b[39m\u001b[38;5;241m.\u001b[39msignature\u001b[38;5;241m.\u001b[39mname),\n\u001b[1;32m    508\u001b[0m         num_outputs\u001b[38;5;241m=\u001b[39m\u001b[38;5;28mself\u001b[39m\u001b[38;5;241m.\u001b[39m_num_outputs,\n\u001b[0;32m   (...)\u001b[0m\n\u001b[1;32m    511\u001b[0m         ctx\u001b[38;5;241m=\u001b[39mctx,\n\u001b[1;32m    512\u001b[0m         cancellation_manager\u001b[38;5;241m=\u001b[39mcancellation_manager)\n",
      "File \u001b[0;32m~/anaconda3/envs/keras/lib/python3.10/site-packages/tensorflow/python/eager/execute.py:54\u001b[0m, in \u001b[0;36mquick_execute\u001b[0;34m(op_name, num_outputs, inputs, attrs, ctx, name)\u001b[0m\n\u001b[1;32m     52\u001b[0m \u001b[38;5;28;01mtry\u001b[39;00m:\n\u001b[1;32m     53\u001b[0m   ctx\u001b[38;5;241m.\u001b[39mensure_initialized()\n\u001b[0;32m---> 54\u001b[0m   tensors \u001b[38;5;241m=\u001b[39m \u001b[43mpywrap_tfe\u001b[49m\u001b[38;5;241;43m.\u001b[39;49m\u001b[43mTFE_Py_Execute\u001b[49m\u001b[43m(\u001b[49m\u001b[43mctx\u001b[49m\u001b[38;5;241;43m.\u001b[39;49m\u001b[43m_handle\u001b[49m\u001b[43m,\u001b[49m\u001b[43m \u001b[49m\u001b[43mdevice_name\u001b[49m\u001b[43m,\u001b[49m\u001b[43m \u001b[49m\u001b[43mop_name\u001b[49m\u001b[43m,\u001b[49m\n\u001b[1;32m     55\u001b[0m \u001b[43m                                      \u001b[49m\u001b[43minputs\u001b[49m\u001b[43m,\u001b[49m\u001b[43m \u001b[49m\u001b[43mattrs\u001b[49m\u001b[43m,\u001b[49m\u001b[43m \u001b[49m\u001b[43mnum_outputs\u001b[49m\u001b[43m)\u001b[49m\n\u001b[1;32m     56\u001b[0m \u001b[38;5;28;01mexcept\u001b[39;00m core\u001b[38;5;241m.\u001b[39m_NotOkStatusException \u001b[38;5;28;01mas\u001b[39;00m e:\n\u001b[1;32m     57\u001b[0m   \u001b[38;5;28;01mif\u001b[39;00m name \u001b[38;5;129;01mis\u001b[39;00m \u001b[38;5;129;01mnot\u001b[39;00m \u001b[38;5;28;01mNone\u001b[39;00m:\n",
      "\u001b[0;31mKeyboardInterrupt\u001b[0m: "
     ]
    }
   ],
   "source": [
    "import tensorflow as tf\n",
    "x = Input(shape=(N, N, 1))\n",
    "\n",
    "net = Conv2D(filters=64, kernel_size=[3, 3], strides=[1, 1], padding=\"same\", kernel_initializer='orthogonal', activation='relu')(x)\n",
    "net = BatchNormalization()(net)\n",
    "# for i in range(19):\n",
    "for i in range(10):\n",
    "    net = Conv2D(filters=64, kernel_size=[3, 3], strides=[1, 1], padding=\"same\", kernel_initializer='orthogonal', activation='relu')(net)\n",
    "    net = BatchNormalization()(net)\n",
    "\n",
    "net = Conv2D(filters=1, kernel_size=[3, 3], strides=[1, 1], padding=\"same\", kernel_initializer='orthogonal', activation='sigmoid')(net)\n",
    "net = BatchNormalization()(net)\t\n",
    "net = Dropout(0.10)(net)\n",
    "\n",
    "model = Model(inputs=x,outputs=net)\n",
    "model.summary()\n",
    "\n",
    "early_stop = EarlyStopping(monitor='val_acc', min_delta=0, patience=10, verbose=1, mode='auto')\n",
    "# save_weights = ModelCheckpoint(filepath='weights_2d.hf5', monitor='val_acc',verbose=1, save_best_only=True)\n",
    "\n",
    "print('Train network ...')\n",
    "opt = tf.keras.optimizers.Adam(learning_rate=0.001)\n",
    "model.compile(optimizer=opt, loss='mse',metrics=['accuracy'])\n",
    "\n",
    "# model.compile(optimizer='adam',loss='mse',metrics=['accuracy'])\n",
    "model.fit(x_train.reshape(n_train,N,N,1), y_train.reshape(n_train,N,N,1), batch_size=64, validation_split=1/14, epochs=50, verbose=1)\n",
    "print('Save trained model ...')\n",
    "model.save(\"128_model_2d_12.hf5\")"
   ]
  },
  {
   "cell_type": "code",
   "execution_count": 3,
   "id": "8f060dad",
   "metadata": {},
   "outputs": [
    {
     "name": "stderr",
     "output_type": "stream",
     "text": [
      "2022-02-13 16:15:41.417433: E tensorflow/stream_executor/cuda/cuda_driver.cc:271] failed call to cuInit: CUDA_ERROR_NO_DEVICE: no CUDA-capable device is detected\n",
      "2022-02-13 16:15:41.417489: I tensorflow/stream_executor/cuda/cuda_diagnostics.cc:169] retrieving CUDA diagnostic information for host: ubuntu20\n",
      "2022-02-13 16:15:41.417500: I tensorflow/stream_executor/cuda/cuda_diagnostics.cc:176] hostname: ubuntu20\n",
      "2022-02-13 16:15:41.417643: I tensorflow/stream_executor/cuda/cuda_diagnostics.cc:200] libcuda reported version is: 465.19.1\n",
      "2022-02-13 16:15:41.417679: I tensorflow/stream_executor/cuda/cuda_diagnostics.cc:204] kernel reported version is: 465.19.1\n",
      "2022-02-13 16:15:41.417688: I tensorflow/stream_executor/cuda/cuda_diagnostics.cc:310] kernel version seems to match DSO: 465.19.1\n",
      "2022-02-13 16:15:41.418502: I tensorflow/core/platform/cpu_feature_guard.cc:151] This TensorFlow binary is optimized with oneAPI Deep Neural Network Library (oneDNN) to use the following CPU instructions in performance-critical operations:  AVX2 FMA\n",
      "To enable them in other operations, rebuild TensorFlow with the appropriate compiler flags.\n"
     ]
    },
    {
     "name": "stdout",
     "output_type": "stream",
     "text": [
      "maz (120, 128, 128)\n",
      "train_paths (160000, 22, 2)\n"
     ]
    }
   ],
   "source": [
    "import os.path as op\n",
    "model = load_model(\"128_model_2d_12.hf5\")\n",
    "arr_dir = \"/home/xiao/Projects/ST_LSTM_MP/Data/2D_map/Map_array\"\n",
    "train_paths = np.load(op.join(arr_dir, \"train_path.npy\"))\n",
    "maz = np.load(op.join(arr_dir, \"maz.npy\"))\n",
    "maz = np.rint(maz/255.0)\n",
    "maz = maz * 2 - 1 #convert the value range [0, 1] to [-1, 1]\n",
    "\n",
    "print ('maz', maz.shape)\n",
    "print ('train_paths', train_paths.shape)"
   ]
  },
  {
   "cell_type": "code",
   "execution_count": 4,
   "id": "40ba9548",
   "metadata": {},
   "outputs": [
    {
     "name": "stdout",
     "output_type": "stream",
     "text": [
      "[116  43] [15 86]\n",
      "[108 125] [35 96]\n",
      "[38 31] [94 78]\n",
      "[ 98 124] [32 14]\n",
      "[32 60] [100  11]\n",
      "[ 1 41] [116  26]\n",
      "[37 41] [125  56]\n",
      "[53 35] [ 23 106]\n",
      "[91 11] [100 115]\n",
      "[ 85 121] [5 7]\n"
     ]
    }
   ],
   "source": [
    "for i in range(10):\n",
    "    print (train_paths[i,0], train_paths[i, -1] )"
   ]
  },
  {
   "cell_type": "code",
   "execution_count": 34,
   "id": "9b3de4be",
   "metadata": {},
   "outputs": [],
   "source": [
    "radius = 1\n",
    "def augment_state(aug_state, curr_maz, v, r):\n",
    "    \n",
    "    for row in range(aug_state[0]-r, aug_state[0]+r+1):\n",
    "        for col in range(aug_state[1]-r, aug_state[1]+r+1):\n",
    "            if 0 <= row < N and 0 <= col < N and curr_maz[0, row, col, 0]!= 1:\n",
    "                curr_maz[0, row, col, 0] = v\n",
    "    return curr_maz"
   ]
  },
  {
   "cell_type": "code",
   "execution_count": 35,
   "id": "d8d82982",
   "metadata": {},
   "outputs": [],
   "source": [
    "def collision_detection(state1, state2, curr_maz): #curr_maz shape: (1, N, N , 1)\n",
    "    \n",
    "    distance = np.sqrt(np.sum(np.square(state1 - state2)))\n",
    "    check_interval = 0.2\n",
    "    check_num = int(distance//check_interval)\n",
    "    x = np.linspace(state1[0], state2[0], check_num)\n",
    "    y = np.linspace(state1[1], state2[1], check_num)\n",
    "#     print (x.shape)\n",
    "    for i in range(x.shape[0]):\n",
    "        if curr_maz[0, int(x[i]), int(y[i]), 0] == 1.0:\n",
    "            return True\n",
    "    return False\n",
    "    "
   ]
  },
  {
   "cell_type": "code",
   "execution_count": 36,
   "id": "b652d7d3",
   "metadata": {},
   "outputs": [],
   "source": [
    "def reach_goal(state1, state2): #state1 in the region of state2\n",
    "    region_radius = 2\n",
    "    if np.sum(np.absolute(state1-state2))<=region_radius:\n",
    "        return True\n",
    "    else:\n",
    "        return False\n",
    "    "
   ]
  },
  {
   "cell_type": "code",
   "execution_count": 38,
   "id": "ee3b326d",
   "metadata": {},
   "outputs": [
    {
     "name": "stdout",
     "output_type": "stream",
     "text": [
      "start/goal states [116  43] [15 86]\n",
      "path [array([116,  43]), array([121,  48]), array([116,  53]), array([121,  58]), array([60, 60]), array([14, 84]), array([16, 84]), array([16, 85]), array([15, 86])]\n",
      "success 0\n",
      "start/goal states [108 125] [35 96]\n",
      "path [array([108, 125]), array([107, 127]), array([109, 127]), array([111, 127]), array([113, 127]), array([115, 127]), array([117, 127]), array([118, 127]), array([123, 123]), array([127, 123]), array([127, 121]), array([127, 119]), array([127, 117]), array([127, 115]), array([127, 113]), array([127, 111]), array([127, 109]), array([127, 107]), array([127, 105]), array([127, 103]), array([127, 101]), array([127,  99]), array([127,  97]), array([127,  95]), array([127,  93]), array([127,  91]), array([127,  89]), array([127,  87]), array([127,  85]), array([34, 96]), array([35, 96])]\n",
      "success 1\n",
      "start/goal states [38 31] [94 78]\n",
      "path [array([38, 31]), array([44, 36]), array([48, 42]), array([55, 40]), array([62, 39]), array([95, 75]), array([94, 76]), array([94, 78])]\n",
      "success 2\n",
      "start/goal states [ 98 124] [32 14]\n",
      "path [array([ 98, 124]), array([ 93, 121]), array([ 96, 120]), array([ 99, 120]), array([ 96, 121]), array([ 97, 120]), array([ 95, 120]), array([ 95, 121]), array([100, 120]), array([ 98, 120]), array([ 97, 121]), array([ 94, 120]), array([ 94, 121]), array([ 96, 122]), array([101, 120]), array([ 98, 121]), array([100, 119]), array([ 97, 122]), array([ 92, 121]), array([ 92, 120]), array([ 90, 120]), array([ 88, 120]), array([ 88, 121]), array([ 93, 120]), array([ 89, 120]), array([ 88, 117]), array([ 88, 118]), array([ 87, 119]), array([ 87, 120]), array([ 91, 120]), array([ 91, 121]), array([ 95, 124]), array([ 98, 122]), array([ 94, 122]), array([ 97, 124]), array([103, 125]), array([103, 127]), array([105, 127]), array([107, 127]), array([109, 127]), array([111, 127]), array([113, 127]), array([115, 127]), array([117, 127]), array([118, 127]), array([123, 123]), array([127, 123]), array([127, 121]), array([127, 119]), array([127, 117]), array([127, 115]), array([127, 113]), array([127, 111]), array([127, 109]), array([127, 107]), array([127, 105]), array([127, 103]), array([32, 14]), array([32, 14])]\n",
      "success 3\n",
      "start/goal states [32 60] [100  11]\n",
      "path [array([32, 60]), array([99, 11]), array([100,  11])]\n",
      "success 4\n",
      "start/goal states [ 1 41] [116  26]\n",
      "path [array([ 1, 41]), array([ 7, 40]), array([15, 43]), array([22, 46]), array([27, 51]), array([32, 56]), array([37, 61]), array([42, 66]), array([50, 65]), array([55, 64]), array([60, 61]), array([63, 60]), array([64, 59]), array([65, 59]), array([66, 59]), array([67, 59]), array([64, 60]), array([65, 60]), array([63, 59]), array([60, 60]), array([62, 60]), array([60, 59]), array([59, 59]), array([56, 59]), array([53, 59]), array([53, 60]), array([57, 59]), array([56, 60]), array([59, 60]), array([62, 59]), array([61, 59]), array([61, 61]), array([62, 61]), array([66, 58]), array([71, 56]), array([78, 55]), array([84, 55]), array([91, 60]), array([96, 65]), array([103,  62]), array([97, 60]), array([101,  56]), array([105,  55]), array([106,  55]), array([109,  55]), array([115,  24]), array([117,  24]), array([117,  25]), array([116,  26])]\n",
      "success 5\n",
      "start/goal states [37 41] [125  56]\n",
      "path [array([37, 41]), array([30, 42]), array([23, 44]), array([17, 42]), array([22, 47]), array([28, 44]), array([22, 43]), array([26, 38]), array([30, 37]), array([27, 37]), array([28, 37]), array([27, 38]), array([29, 37]), array([28, 38]), array([31, 37]), array([28, 39]), array([24, 44]), array([18, 42]), array([22, 38]), array([26, 37]), array([27, 39]), array([32, 37]), array([29, 38]), array([31, 36]), array([35, 31]), array([34, 26]), array([39, 31]), array([45, 36]), array([54, 37]), array([61, 39]), array([65, 34]), array([59, 31]), array([63, 30]), array([60, 30]), array([61, 30]), array([62, 30]), array([61, 31]), array([60, 31]), array([64, 30]), array([61, 32]), array([56, 38]), array([63, 39]), array([66, 34]), array([70, 38]), array([74, 44]), array([68, 41]), array([72, 45]), array([73, 51]), array([78, 54]), array([123,  57]), array([124,  56]), array([125,  56])]\n",
      "success 6\n",
      "start/goal states [53 35] [ 23 106]\n",
      "path [array([53, 35]), array([ 22, 104]), array([ 24, 104]), array([ 24, 105]), array([ 23, 106])]\n",
      "success 7\n",
      "start/goal states [91 11] [100 115]\n",
      "path [array([91, 11]), array([94, 17]), array([100,  21]), array([106,  21]), array([112,  21]), array([117,  27]), array([101, 116]), array([100, 115])]\n",
      "success 8\n",
      "start/goal states [ 85 121] [5 7]\n",
      "path [array([ 85, 121]), array([ 88, 118]), array([ 87, 119]), array([ 87, 120]), array([ 88, 121]), array([ 92, 120]), array([ 90, 120]), array([ 88, 120]), array([ 87, 118]), array([ 87, 121]), array([ 92, 121]), array([ 95, 120]), array([ 99, 120]), array([ 96, 120]), array([ 97, 120]), array([ 96, 121]), array([ 98, 120]), array([ 97, 121]), array([ 95, 121]), array([100, 120]), array([ 98, 121]), array([100, 119]), array([ 97, 122]), array([ 94, 120]), array([ 94, 121]), array([ 96, 122]), array([101, 120]), array([108, 122]), array([114, 122]), array([120, 122]), array([104,  55]), array([105,  55]), array([106,  55]), array([109,  55]), array([106,  56]), array([108,  55]), array([107,  56]), array([110,  55]), array([105,  56]), array([107,  55]), array([106,  57]), array([111,  55]), array([108,  56]), array([110,  54]), array([107,  57]), array([103,  62]), array([3, 5]), array([6, 5]), array([5, 5]), array([5, 7])]\n",
      "success 9\n",
      "the time cost 13.125155210494995\n",
      "success 10\n",
      "fail 0\n",
      "path length 274\n"
     ]
    }
   ],
   "source": [
    "#Path Construction\n",
    "\n",
    "import tensorflow as tf\n",
    "import time\n",
    "maz_id = 0\n",
    "path_id = 400\n",
    "max_itr = 400\n",
    "start_v = -0.33\n",
    "goal_v = 0.33\n",
    "workspace = np.copy(maz[maz_id])\n",
    "all_paths = []\n",
    "all_iterations = []\n",
    "all_times = []\n",
    "success = 0\n",
    "fail = 0\n",
    "#1450\n",
    "# for path_id in range(1600, 1700):\n",
    "# for path_id in range(1710, 1722):\n",
    "for path_id in range(10):\n",
    "    start_time = time.time()\n",
    "    # init_state = np.copy(train_configs[maz_id, path_id])\n",
    "    curr_state = train_paths[maz_id * 1600 + path_id, 0]\n",
    "    goal_state = train_paths[maz_id * 1600 + path_id, -1]\n",
    "    \n",
    "    print ('start/goal states', curr_state, goal_state)\n",
    "    #environments with augmented goal state and w/o start state\n",
    "    workspace = workspace.reshape(1,N,N,1)\n",
    "    img_task = augment_state(goal_state, np.copy(workspace), goal_v, radius) \n",
    "\n",
    "    #update the curr_task with respect to the robot state\n",
    "    curr_task = augment_state(curr_state, np.copy(img_task), start_v, radius)\n",
    "    path = [curr_state]\n",
    "\n",
    "    for i in range(max_itr):\n",
    "        pred_prob = model(curr_task)\n",
    "        pred_sample = np.unravel_index(np.argsort(pred_prob[0,:,:,0], axis=None)[::-1], (N,N))\n",
    "    #     pred_sample = tf.argsort(pred_prob[0,:,:,0], direction=\"DESCENDING\")\n",
    "        pred_sample = np.stack(pred_sample, axis=-1)\n",
    "\n",
    "        for s in pred_sample:\n",
    "            flag = False\n",
    "            for p in path: #check the waypoint already exists in the path\n",
    "                if p[0] == s[0] and p[1] == s[1]:\n",
    "                    flag = True\n",
    "                    break\n",
    "                    \n",
    "            if not collision_detection(path[-1], s, workspace) and not flag:#if no collision and not used\n",
    "                path.append(s)\n",
    "                curr_task = augment_state(s, np.copy(img_task), start_v, radius)\n",
    "                break\n",
    "                \n",
    "#         if not collision_detection(path[-1], goal_state, workspace):\n",
    "#             print ('connect to goal')\n",
    "#             path.append(goal_state)\n",
    "#             break\n",
    "                \n",
    "        if reach_goal(path[-1], goal_state):\n",
    "            path.append(goal_state)\n",
    "            break\n",
    "    print ('path', path)\n",
    "    all_paths.append(path)\n",
    "    if (path[-1] == goal_state).all():\n",
    "        success += 1\n",
    "        print ('success', path_id)\n",
    "    else:\n",
    "        fail += 1\n",
    "        print ('fail', path_id)\n",
    "    \n",
    "    all_iterations.append(i)\n",
    "    all_times.append(time.time()-start_time)\n",
    "    \n",
    "print ('the time cost', sum(all_times))\n",
    "print ('success', success)\n",
    "print ('fail', fail)\n",
    "print ('path length', sum([len(p) for p in all_paths]))\n",
    "    \n",
    "    \n",
    "    \n",
    "    \n",
    "    "
   ]
  },
  {
   "cell_type": "code",
   "execution_count": 446,
   "id": "a7040b11",
   "metadata": {},
   "outputs": [
    {
     "name": "stdout",
     "output_type": "stream",
     "text": [
      "success rate 1.0\n",
      "avg ite 34.1\n",
      "avg time 1.0256676435470582\n",
      "min idx 9\n",
      "min len 5\n"
     ]
    }
   ],
   "source": [
    "success = 0\n",
    "min_len = np.inf\n",
    "min_idx = 0\n",
    "for i in range(len(all_paths)):\n",
    "    if len(all_paths[i]) > 0:\n",
    "        success += 1\n",
    "        if len(all_paths[i]) < min_len:\n",
    "            min_len = len(all_paths[i])\n",
    "            min_idx = i\n",
    "        \n",
    "print ('success rate', success/10)\n",
    "print ('avg ite', sum(all_iterations)/10)\n",
    "print ('avg time', sum(all_times)/10)\n",
    "print ('min idx', min_idx)\n",
    "print ('min len', min_len)"
   ]
  },
  {
   "cell_type": "code",
   "execution_count": 39,
   "id": "49b0ac29",
   "metadata": {},
   "outputs": [
    {
     "name": "stdout",
     "output_type": "stream",
     "text": [
      "[[ 32  60]\n",
      " [ 99  11]\n",
      " [100  11]]\n"
     ]
    }
   ],
   "source": [
    "vis_id =4#89#47#54#23\n",
    "path = np.array(all_paths[vis_id])\n",
    "print (path)"
   ]
  },
  {
   "cell_type": "code",
   "execution_count": 40,
   "id": "a13d3aec",
   "metadata": {},
   "outputs": [
    {
     "name": "stdout",
     "output_type": "stream",
     "text": [
      "collision detection True\n"
     ]
    }
   ],
   "source": [
    "print ('collision detection', collision_detection(np.array([0, 104]),np.array([114,109]), workspace))"
   ]
  },
  {
   "cell_type": "code",
   "execution_count": 69,
   "id": "8b872a37",
   "metadata": {},
   "outputs": [
    {
     "data": {
      "image/png": "[encoded data removed]",
      "text/plain": [
       "<Figure size 432x288 with 1 Axes>"
      ]
     },
     "metadata": {},
     "output_type": "display_data"
    }
   ],
   "source": [
    "path = train_paths[26]\n",
    "# path = [[ 60, 34],[86, 74],[57,  24],[60,  8]]\n",
    "# path = [[14,  2], [17,  3], [17,  4], [19,  4], [22,  3], [55, 58], [58, 60]]\n",
    "# path = [path[i] for i in [0,1,3,4]]\n",
    "# path = [[90,14],[ 60,34],[123,102],[122,102]]\n",
    "# path = [[90,14],[ 60,34],[100,76],[122,102]]\n",
    "# plt.imshow(test_seen_video[map_id,task_id,0])\n",
    "vis_env = workspace[0,:,:,0]\n",
    "# plt.imshow(vis_env.T)\n",
    "sns.heatmap(vis_env.T, cmap=\"YlGnBu\", cbar=False, square=True)#, xticklabels=False, yticklabels=False)\n",
    "\n",
    "plt.axis('off')\n",
    "# plt.gca().invert_yaxis()\n",
    "# plt.gca().invert_xaxis()\n",
    "# plt.gca().invert_yaxis()\n",
    "x = [x for x,y in path]\n",
    "y = [y for x,y in path]\n",
    "\n",
    "plt.plot(x,y, '-', color='blue')\n",
    "\n",
    "plt.scatter(x[1:-1], y[1:-1], s=100, color='blue', marker='o')\n",
    "plt.scatter(x[0], y[0], s=100, color='green', marker='o')\n",
    "plt.scatter(x[-1], y[-1], s=100, color='red', marker='o')\n",
    "\n",
    "plt.show()\n",
    "\n",
    "\n"
   ]
  },
  {
   "cell_type": "code",
   "execution_count": 99,
   "id": "04d705dd",
   "metadata": {},
   "outputs": [
    {
     "data": {
      "image/png": "[encoded data removed]",
      "text/plain": [
       "<Figure size 432x288 with 1 Axes>"
      ]
     },
     "metadata": {},
     "output_type": "display_data"
    }
   ],
   "source": [
    "# node 0\n",
    "img_task = np.copy(workspace)\n",
    "curr_task = augment_state(path[-1], np.copy(workspace), goal_v, 1) \n",
    "curr_task = augment_state(path[0], np.copy(curr_task), start_v, 1)\n",
    "sns.heatmap(img_task[0,:,:,0].T, cmap=\"YlGnBu\", cbar=False, xticklabels=False, yticklabels=False, square=True)\n",
    "# plt.plot(x[0], y[0], 'ro', color='green')\n",
    "# plt.plot(x[-1], y[-1], 'ro', color='red')\n",
    "plt.scatter(x[0], y[0], s=150, color='green', marker='o')\n",
    "plt.scatter(x[-1], y[-1], s=150, color='red', marker='o')\n",
    "plt.show()"
   ]
  },
  {
   "cell_type": "code",
   "execution_count": 86,
   "id": "ebecab0f",
   "metadata": {},
   "outputs": [
    {
     "name": "stdout",
     "output_type": "stream",
     "text": [
      "0.38\n"
     ]
    },
    {
     "data": {
      "text/plain": [
       "<AxesSubplot:>"
      ]
     },
     "execution_count": 86,
     "metadata": {},
     "output_type": "execute_result"
    },
    {
     "data": {
      "image/png": "[encoded data removed]",
      "text/plain": [
       "<Figure size 432x288 with 1 Axes>"
      ]
     },
     "metadata": {},
     "output_type": "display_data"
    }
   ],
   "source": [
    "output1 = model(curr_task)\n",
    "# output1 = np.array(output1[0,:,:,0])\n",
    "output1 = np.array(output1)\n",
    "output1 = augment_state(path[1], output1, 0.38,1)\n",
    "# output1 = augment_state(path[-1], output1, 0,5)\n",
    "\n",
    "output1 = output1[0,:,:,0]\n",
    "\n",
    "\n",
    "# sns.heatmap(vis_env.T, cmap=\"YlGnBu\", cbar=False, xticklabels=False, yticklabels=False, square=True)\n",
    "# plt.axis('off')\n",
    "# plt.imshow(output1.T)\n",
    "print(output1[path[1,0],path[1,1]])\n",
    "sns.heatmap(output1.T, cbar=False,cmap=\"YlGnBu\",vmin=0.01, vmax=0.06, xticklabels=False, yticklabels=False, square=True)"
   ]
  },
  {
   "cell_type": "code",
   "execution_count": 98,
   "id": "5b74bdff",
   "metadata": {},
   "outputs": [
    {
     "data": {
      "image/png": "[encoded data removed]",
      "text/plain": [
       "<Figure size 432x288 with 1 Axes>"
      ]
     },
     "metadata": {},
     "output_type": "display_data"
    }
   ],
   "source": [
    "# node 1\n",
    "img_task = np.copy(workspace)\n",
    "curr_task = augment_state(path[-1], np.copy(workspace), goal_v, 1) \n",
    "curr_task = augment_state(path[1], np.copy(curr_task), start_v, 1)\n",
    "sns.heatmap(img_task[0,:,:,0].T, cmap=\"YlGnBu\", cbar=False, xticklabels=False, yticklabels=False, square=True)\n",
    "# plt.plot(x[0], y[0], 'ro', color='green')\n",
    "# plt.plot(x[-1], y[-1], 'ro', color='red')\n",
    "plt.scatter(x[1], y[1], s=150, color='green', marker='o')\n",
    "plt.scatter(x[-1], y[-1], s=150, color='red', marker='o')\n",
    "plt.show()"
   ]
  },
  {
   "cell_type": "code",
   "execution_count": 96,
   "id": "cd936f38",
   "metadata": {},
   "outputs": [
    {
     "name": "stdout",
     "output_type": "stream",
     "text": [
      "0.25\n"
     ]
    },
    {
     "data": {
      "text/plain": [
       "<AxesSubplot:>"
      ]
     },
     "execution_count": 96,
     "metadata": {},
     "output_type": "execute_result"
    },
    {
     "data": {
      "image/png": "[encoded data removed]",
      "text/plain": [
       "<Figure size 432x288 with 1 Axes>"
      ]
     },
     "metadata": {},
     "output_type": "display_data"
    }
   ],
   "source": [
    "output1 = model(curr_task)\n",
    "# output1 = np.array(output1[0,:,:,0])\n",
    "output1 = np.array(output1)\n",
    "output1 = augment_state(path[2], output1, 0.25,2)\n",
    "# output1 = augment_state(path[-1], output1, 0,5)\n",
    "output1 = output1[0,:,:,0]\n",
    "# sns.heatmap(vis_env.T, cmap=\"YlGnBu\", cbar=False, xticklabels=False, yticklabels=False, square=True)\n",
    "# plt.axis('off')\n",
    "# plt.imshow(output1.T)\n",
    "print(output1[path[2,0],path[2,1]])\n",
    "sns.heatmap(output1.T,  cbar=False, cmap=\"YlGnBu\",vmin=0.01, vmax=0.06, xticklabels=False, yticklabels=False, square=True)"
   ]
  },
  {
   "cell_type": "code",
   "execution_count": 97,
   "id": "b2cd4ed4",
   "metadata": {},
   "outputs": [
    {
     "data": {
      "image/png": "[encoded data removed]",
      "text/plain": [
       "<Figure size 432x288 with 1 Axes>"
      ]
     },
     "metadata": {},
     "output_type": "display_data"
    }
   ],
   "source": [
    "# node 2\n",
    "img_task = np.copy(workspace)\n",
    "curr_task = augment_state(path[-1], np.copy(workspace), goal_v, 1) \n",
    "curr_task = augment_state(path[2], np.copy(curr_task), start_v, 1)\n",
    "sns.heatmap(img_task[0,:,:,0].T, cmap=\"YlGnBu\", cbar=False, xticklabels=False, yticklabels=False, square=True)\n",
    "# plt.plot(x[0], y[0], 'ro', color='green')\n",
    "# plt.plot(x[-1], y[-1], 'ro', color='red')\n",
    "plt.scatter(x[2], y[2], s=150, color='green', marker='o')\n",
    "plt.scatter(x[-1], y[-1], s=150, color='red', marker='o')\n",
    "plt.show()"
   ]
  },
  {
   "cell_type": "code",
   "execution_count": 95,
   "id": "42673c7c",
   "metadata": {},
   "outputs": [
    {
     "data": {
      "text/plain": [
       "<AxesSubplot:>"
      ]
     },
     "execution_count": 95,
     "metadata": {},
     "output_type": "execute_result"
    },
    {
     "data": {
      "image/png": "[encoded data removed]",
      "text/plain": [
       "<Figure size 432x288 with 1 Axes>"
      ]
     },
     "metadata": {},
     "output_type": "display_data"
    }
   ],
   "source": [
    "output1 = model(curr_task)\n",
    "# output1 = np.array(output1[0,:,:,0])\n",
    "output1 = np.array(output1)\n",
    "# output1 = augment_state(path[1], output1, 0.41,2)\n",
    "# output1 = augment_state(path[-1], output1, 0,5)\n",
    "output1 = output1[0,:,:,0]\n",
    "# sns.heatmap(vis_env.T, cmap=\"YlGnBu\", cbar=False, xticklabels=False, yticklabels=False, square=True)\n",
    "# plt.axis('off')\n",
    "# plt.imshow(output1.T)\n",
    "sns.heatmap(output1.T, cbar=False,cmap=\"YlGnBu\",vmin=0.01, vmax=0.06, xticklabels=False, yticklabels=False, square=True)"
   ]
  },
  {
   "cell_type": "code",
   "execution_count": 235,
   "id": "b80f3b63",
   "metadata": {},
   "outputs": [
    {
     "data": {
      "image/png": "[encoded data removed]",
      "text/plain": [
       "<Figure size 432x288 with 1 Axes>"
      ]
     },
     "metadata": {},
     "output_type": "display_data"
    }
   ],
   "source": [
    "# node 2\n",
    "img_task = np.copy(workspace)\n",
    "curr_task = augment_state(path[-1], np.copy(workspace), goal_v, 1) \n",
    "curr_task = augment_state(path[3], np.copy(curr_task), start_v, 1)\n",
    "sns.heatmap(img_task[0,:,:,0].T, cmap=\"YlGnBu\", cbar=False, xticklabels=False, yticklabels=False, square=True)\n",
    "# plt.plot(x[0], y[0], 'ro', color='green')\n",
    "# plt.plot(x[-1], y[-1], 'ro', color='red')\n",
    "plt.scatter(x[3], y[3], s=100, color='green', marker='o')\n",
    "plt.scatter(x[-1], y[-1], s=100, color='red', marker='o')\n",
    "plt.show()"
   ]
  },
  {
   "cell_type": "code",
   "execution_count": 236,
   "id": "4a2ff048",
   "metadata": {},
   "outputs": [
    {
     "data": {
      "text/plain": [
       "<AxesSubplot:>"
      ]
     },
     "execution_count": 236,
     "metadata": {},
     "output_type": "execute_result"
    },
    {
     "data": {
      "image/png": "[encoded data removed]",
      "text/plain": [
       "<Figure size 432x288 with 1 Axes>"
      ]
     },
     "metadata": {},
     "output_type": "display_data"
    }
   ],
   "source": [
    "output1 = model(curr_task)\n",
    "# output1 = np.array(output1[0,:,:,0])\n",
    "output1 = np.array(output1)\n",
    "# output1 = augment_state(path[1], output1, 0.41,2)\n",
    "output1 = output1[0,:,:,0]\n",
    "# sns.heatmap(vis_env.T, cmap=\"YlGnBu\", cbar=False, xticklabels=False, yticklabels=False, square=True)\n",
    "# plt.axis('off')\n",
    "# plt.imshow(output1.T)\n",
    "sns.heatmap(output1.T, cbar=False, vmin=0.045, vmax=0.06,xticklabels=False, yticklabels=False, square=True)"
   ]
  },
  {
   "cell_type": "code",
   "execution_count": null,
   "id": "6782198a",
   "metadata": {},
   "outputs": [],
   "source": []
  },
  {
   "cell_type": "code",
   "execution_count": null,
   "id": "ec7cdd7f",
   "metadata": {},
   "outputs": [],
   "source": []
  }
 ],
 "metadata": {
  "kernelspec": {
   "display_name": "Python 3 (ipykernel)",
   "language": "python",
   "name": "python3"
  },
  "language_info": {
   "codemirror_mode": {
    "name": "ipython",
    "version": 3
   },
   "file_extension": ".py",
   "mimetype": "text/x-python",
   "name": "python",
   "nbconvert_exporter": "python",
   "pygments_lexer": "ipython3",
   "version": "3.10.2"
  }
 },
 "nbformat": 4,
 "nbformat_minor": 5
}
